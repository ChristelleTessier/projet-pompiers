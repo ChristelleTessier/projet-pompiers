{
 "cells": [
  {
   "cell_type": "markdown",
   "metadata": {
    "id": "PpFe80XIUPhw"
   },
   "source": [
    "# <font color='red'> Description du projet </font>"
   ]
  },
  {
   "cell_type": "markdown",
   "metadata": {
    "id": "rt5QCaVXJTEc"
   },
   "source": [
    "## <font color='blue'>Présentation du problème </font>"
   ]
  },
  {
   "cell_type": "markdown",
   "metadata": {
    "id": "cL948JO3UqPc"
   },
   "source": [
    "L’objectif de ce projet est d’estimer **les temps de réponse et de mobilisation** de la Brigade des Pompiers de Londres. La brigade des pompiers de Londres est le service d'incendie et de sauvetage le plus actif du Royaume-Uni  et l'une des plus grandes organisations de lutte contre l'incendie et de sauvetage au monde.\n",
    "\n",
    "Le premier jeu de données fourni contient les détails de chaque incident traité depuis janvier 2009. Des informations sont fournies sur la date et le lieu de l'incident ainsi que sur le type d'incident traité. Il est composé de deux fichiers\n",
    "\n",
    "*   LFB Incident data from 2009 - 2017.xlsx\n",
    "*   LFB Incident data from 2018 onwards.csv\n",
    "\n",
    "Le second fichier peut-être récupéré à l'aide du lien : 'https://data.london.gov.uk/download/london-fire-brigade-incident-records/f5066d66-c7a3-415f-9629-026fbda61822/LFB%20Incident%20data%20from%202018%20onwards.csv.xlsx' pour avoir la dernière version du fichier. En effet, les données sont mises à jour tous les mois. Il faut compter au moins 7 minutes pour la lecture des données.\n",
    "\n",
    "<br>\n",
    "\n",
    "Le second jeu de données contient les détails de chaque camion de pompiers envoyé sur les lieux d'un incident depuis janvier 2009. Des informations sont fournies sur l'appareil mobilisé, son lieu de déploiement et les heures d'arrivée sur les lieux de l'incident. Il est composé de trois fichiers\n",
    "\n",
    "*   LFB Mobilisation data from January 2009 - 2014.xlsx\n",
    "*   LFB Mobilisation data from 2015 - 2020.xlsx\n",
    "*   LFB Mobilisation data from January 2009 - 2014.xlsx\n",
    "\n",
    "Le dernier fichier peut-être récupéré à l'aide du lien : 'https://data.london.gov.uk/download/london-fire-brigade-mobilisation-records/3ff29fb5-3935-41b2-89f1-38571059237e/LFB%20Mobilisation%20data%202021%20-%202024.xlsx' pour avoir la dernière version du fichier (mise à jour mensuelle). Il faut compter environ 17 minutes pour la lecture des données."
   ]
  },
  {
   "cell_type": "markdown",
   "metadata": {
    "id": "I4W5HWBck5Eb"
   },
   "source": [
    "## <font color='blue'> Etapes précédentes </font>"
   ]
  },
  {
   "cell_type": "markdown",
   "metadata": {
    "id": "EfMY0mvklBzF"
   },
   "source": [
    "\n",
    "\n",
    "*   1 - Exploration des données : premières analyses, concaténation des différents fichiers puis jointure des 2 types de données (incident / mobilisation)\n",
    "*   2 - Data visualisation.ipynb : visualisation des données, étude de la variable à prédire (temps de réponse total) en fonction des variables explicatives, création d'un jeu de données pour la modélisation\n",
    "\n",
    "Dans le notebook *1 - Exploration des données*, nous avons crée un dataframe df_mobilisation_incident. Il est utilisé ici."
   ]
  },
  {
   "cell_type": "markdown",
   "metadata": {
    "id": "hi-a2__QJjeU"
   },
   "source": [
    "## <font color='blue'>Etapes dans ce notebook </font>"
   ]
  },
  {
   "cell_type": "markdown",
   "metadata": {
    "id": "Y8rzBDFTJjoc"
   },
   "source": [
    "Dans ce notebook, on reprend et affine la dernière section du notebook *2 - Data visualisation.ipynb* : la création des jeux de données pour la modélisation"
   ]
  },
  {
   "cell_type": "markdown",
   "metadata": {
    "id": "AH3EMhtFY2cz"
   },
   "source": [
    "# <font color='red'>1) Préparation de l'environement de travail </font>"
   ]
  },
  {
   "cell_type": "markdown",
   "metadata": {
    "id": "XeTMdfVWYZVv"
   },
   "source": [
    "## <font color='blue'>Installation des modules </font>"
   ]
  },
  {
   "cell_type": "code",
   "execution_count": 53,
   "metadata": {
    "colab": {
     "base_uri": "https://localhost:8080/"
    },
    "executionInfo": {
     "elapsed": 4531,
     "status": "ok",
     "timestamp": 1734963298863,
     "user": {
      "displayName": "AnChriHao AnChriHao",
      "userId": "01629242505074473503"
     },
     "user_tz": -60
    },
    "id": "LT1263HTFk0Y",
    "outputId": "8a318706-e025-4462-b3b7-1f5f40d8ea23"
   },
   "outputs": [
    {
     "name": "stdout",
     "output_type": "stream",
     "text": [
      "Collecting torch\n",
      "  Downloading torch-2.5.1-cp311-cp311-win_amd64.whl.metadata (28 kB)\n",
      "Collecting filelock (from torch)\n",
      "  Downloading filelock-3.16.1-py3-none-any.whl.metadata (2.9 kB)\n",
      "Requirement already satisfied: typing-extensions>=4.8.0 in c:\\users\\33663\\appdata\\local\\packages\\pythonsoftwarefoundation.python.3.11_qbz5n2kfra8p0\\localcache\\local-packages\\python311\\site-packages (from torch) (4.12.2)\n",
      "Collecting networkx (from torch)\n",
      "  Downloading networkx-3.4.2-py3-none-any.whl.metadata (6.3 kB)\n",
      "Requirement already satisfied: jinja2 in c:\\users\\33663\\appdata\\local\\packages\\pythonsoftwarefoundation.python.3.11_qbz5n2kfra8p0\\localcache\\local-packages\\python311\\site-packages (from torch) (3.1.4)\n",
      "Collecting fsspec (from torch)\n",
      "  Downloading fsspec-2024.12.0-py3-none-any.whl.metadata (11 kB)\n",
      "Collecting sympy==1.13.1 (from torch)\n",
      "  Downloading sympy-1.13.1-py3-none-any.whl.metadata (12 kB)\n",
      "Collecting mpmath<1.4,>=1.1.0 (from sympy==1.13.1->torch)\n",
      "  Downloading mpmath-1.3.0-py3-none-any.whl.metadata (8.6 kB)\n",
      "Requirement already satisfied: MarkupSafe>=2.0 in c:\\users\\33663\\appdata\\local\\packages\\pythonsoftwarefoundation.python.3.11_qbz5n2kfra8p0\\localcache\\local-packages\\python311\\site-packages (from jinja2->torch) (3.0.2)\n",
      "Downloading torch-2.5.1-cp311-cp311-win_amd64.whl (203.1 MB)\n",
      "   ---------------------------------------- 0.0/203.1 MB ? eta -:--:--\n",
      "   ---------------------------------------- 0.5/203.1 MB 2.8 MB/s eta 0:01:13\n",
      "   ---------------------------------------- 1.3/203.1 MB 3.4 MB/s eta 0:01:01\n",
      "   ---------------------------------------- 2.1/203.1 MB 3.5 MB/s eta 0:00:59\n",
      "    --------------------------------------- 2.9/203.1 MB 3.4 MB/s eta 0:00:59\n",
      "    --------------------------------------- 3.7/203.1 MB 3.5 MB/s eta 0:00:58\n",
      "    --------------------------------------- 4.2/203.1 MB 3.4 MB/s eta 0:00:58\n",
      "    --------------------------------------- 5.0/203.1 MB 3.5 MB/s eta 0:00:58\n",
      "   - -------------------------------------- 5.8/203.1 MB 3.5 MB/s eta 0:00:58\n",
      "   - -------------------------------------- 6.6/203.1 MB 3.5 MB/s eta 0:00:57\n",
      "   - -------------------------------------- 7.3/203.1 MB 3.5 MB/s eta 0:00:57\n",
      "   - -------------------------------------- 7.9/203.1 MB 3.5 MB/s eta 0:00:57\n",
      "   - -------------------------------------- 8.7/203.1 MB 3.4 MB/s eta 0:00:57\n",
      "   - -------------------------------------- 9.4/203.1 MB 3.5 MB/s eta 0:00:56\n",
      "   -- ------------------------------------- 10.2/203.1 MB 3.5 MB/s eta 0:00:56\n",
      "   -- ------------------------------------- 11.0/203.1 MB 3.5 MB/s eta 0:00:56\n",
      "   -- ------------------------------------- 11.8/203.1 MB 3.5 MB/s eta 0:00:56\n",
      "   -- ------------------------------------- 12.6/203.1 MB 3.5 MB/s eta 0:00:55\n",
      "   -- ------------------------------------- 13.1/203.1 MB 3.5 MB/s eta 0:00:55\n",
      "   -- ------------------------------------- 13.9/203.1 MB 3.5 MB/s eta 0:00:55\n",
      "   -- ------------------------------------- 14.7/203.1 MB 3.5 MB/s eta 0:00:55\n",
      "   --- ------------------------------------ 15.5/203.1 MB 3.5 MB/s eta 0:00:54\n",
      "   --- ------------------------------------ 16.0/203.1 MB 3.5 MB/s eta 0:00:54\n",
      "   --- ------------------------------------ 16.8/203.1 MB 3.5 MB/s eta 0:00:54\n",
      "   --- ------------------------------------ 17.6/203.1 MB 3.5 MB/s eta 0:00:54\n",
      "   --- ------------------------------------ 18.4/203.1 MB 3.5 MB/s eta 0:00:54\n",
      "   --- ------------------------------------ 19.1/203.1 MB 3.5 MB/s eta 0:00:53\n",
      "   --- ------------------------------------ 19.7/203.1 MB 3.5 MB/s eta 0:00:54\n",
      "   ---- ----------------------------------- 20.4/203.1 MB 3.5 MB/s eta 0:00:53\n",
      "   ---- ----------------------------------- 21.2/203.1 MB 3.5 MB/s eta 0:00:53\n",
      "   ---- ----------------------------------- 22.0/203.1 MB 3.5 MB/s eta 0:00:53\n",
      "   ---- ----------------------------------- 22.8/203.1 MB 3.5 MB/s eta 0:00:53\n",
      "   ---- ----------------------------------- 23.6/203.1 MB 3.5 MB/s eta 0:00:52\n",
      "   ---- ----------------------------------- 24.1/203.1 MB 3.5 MB/s eta 0:00:52\n",
      "   ---- ----------------------------------- 24.9/203.1 MB 3.5 MB/s eta 0:00:52\n",
      "   ----- ---------------------------------- 25.7/203.1 MB 3.5 MB/s eta 0:00:52\n",
      "   ----- ---------------------------------- 26.5/203.1 MB 3.5 MB/s eta 0:00:52\n",
      "   ----- ---------------------------------- 27.3/203.1 MB 3.5 MB/s eta 0:00:51\n",
      "   ----- ---------------------------------- 28.0/203.1 MB 3.5 MB/s eta 0:00:51\n",
      "   ----- ---------------------------------- 28.8/203.1 MB 3.5 MB/s eta 0:00:51\n",
      "   ----- ---------------------------------- 29.4/203.1 MB 3.5 MB/s eta 0:00:51\n",
      "   ----- ---------------------------------- 30.1/203.1 MB 3.5 MB/s eta 0:00:50\n",
      "   ------ --------------------------------- 30.9/203.1 MB 3.5 MB/s eta 0:00:50\n",
      "   ------ --------------------------------- 31.7/203.1 MB 3.5 MB/s eta 0:00:50\n",
      "   ------ --------------------------------- 32.2/203.1 MB 3.5 MB/s eta 0:00:50\n",
      "   ------ --------------------------------- 33.0/203.1 MB 3.5 MB/s eta 0:00:50\n",
      "   ------ --------------------------------- 33.8/203.1 MB 3.5 MB/s eta 0:00:49\n",
      "   ------ --------------------------------- 34.6/203.1 MB 3.5 MB/s eta 0:00:49\n",
      "   ------ --------------------------------- 35.4/203.1 MB 3.5 MB/s eta 0:00:49\n",
      "   ------- -------------------------------- 36.2/203.1 MB 3.5 MB/s eta 0:00:49\n",
      "   ------- -------------------------------- 36.7/203.1 MB 3.5 MB/s eta 0:00:49\n",
      "   ------- -------------------------------- 37.5/203.1 MB 3.5 MB/s eta 0:00:48\n",
      "   ------- -------------------------------- 38.3/203.1 MB 3.5 MB/s eta 0:00:48\n",
      "   ------- -------------------------------- 39.1/203.1 MB 3.5 MB/s eta 0:00:48\n",
      "   ------- -------------------------------- 39.6/203.1 MB 3.5 MB/s eta 0:00:48\n",
      "   ------- -------------------------------- 40.4/203.1 MB 3.5 MB/s eta 0:00:48\n",
      "   -------- ------------------------------- 41.2/203.1 MB 3.5 MB/s eta 0:00:47\n",
      "   -------- ------------------------------- 41.9/203.1 MB 3.5 MB/s eta 0:00:47\n",
      "   -------- ------------------------------- 42.7/203.1 MB 3.5 MB/s eta 0:00:47\n",
      "   -------- ------------------------------- 43.3/203.1 MB 3.5 MB/s eta 0:00:47\n",
      "   -------- ------------------------------- 44.0/203.1 MB 3.5 MB/s eta 0:00:46\n",
      "   -------- ------------------------------- 44.8/203.1 MB 3.5 MB/s eta 0:00:46\n",
      "   -------- ------------------------------- 45.6/203.1 MB 3.5 MB/s eta 0:00:46\n",
      "   --------- ------------------------------ 46.4/203.1 MB 3.5 MB/s eta 0:00:46\n",
      "   --------- ------------------------------ 47.2/203.1 MB 3.5 MB/s eta 0:00:46\n",
      "   --------- ------------------------------ 47.7/203.1 MB 3.5 MB/s eta 0:00:45\n",
      "   --------- ------------------------------ 48.5/203.1 MB 3.5 MB/s eta 0:00:45\n",
      "   --------- ------------------------------ 49.3/203.1 MB 3.5 MB/s eta 0:00:45\n",
      "   --------- ------------------------------ 50.1/203.1 MB 3.5 MB/s eta 0:00:45\n",
      "   --------- ------------------------------ 50.6/203.1 MB 3.5 MB/s eta 0:00:45\n",
      "   ---------- ----------------------------- 51.4/203.1 MB 3.5 MB/s eta 0:00:44\n",
      "   ---------- ----------------------------- 52.2/203.1 MB 3.5 MB/s eta 0:00:44\n",
      "   ---------- ----------------------------- 52.7/203.1 MB 3.5 MB/s eta 0:00:44\n",
      "   ---------- ----------------------------- 53.5/203.1 MB 3.5 MB/s eta 0:00:44\n",
      "   ---------- ----------------------------- 54.3/203.1 MB 3.5 MB/s eta 0:00:43\n",
      "   ---------- ----------------------------- 55.1/203.1 MB 3.5 MB/s eta 0:00:43\n",
      "   ---------- ----------------------------- 55.8/203.1 MB 3.5 MB/s eta 0:00:43\n",
      "   ----------- ---------------------------- 56.6/203.1 MB 3.5 MB/s eta 0:00:43\n",
      "   ----------- ---------------------------- 57.1/203.1 MB 3.5 MB/s eta 0:00:43\n",
      "   ----------- ---------------------------- 57.9/203.1 MB 3.5 MB/s eta 0:00:42\n",
      "   ----------- ---------------------------- 58.7/203.1 MB 3.5 MB/s eta 0:00:42\n",
      "   ----------- ---------------------------- 59.2/203.1 MB 3.5 MB/s eta 0:00:42\n",
      "   ----------- ---------------------------- 60.0/203.1 MB 3.5 MB/s eta 0:00:42\n",
      "   ----------- ---------------------------- 60.8/203.1 MB 3.5 MB/s eta 0:00:42\n",
      "   ------------ --------------------------- 61.6/203.1 MB 3.4 MB/s eta 0:00:42\n",
      "   ------------ --------------------------- 62.1/203.1 MB 3.4 MB/s eta 0:00:41\n",
      "   ------------ --------------------------- 62.9/203.1 MB 3.4 MB/s eta 0:00:41\n",
      "   ------------ --------------------------- 63.7/203.1 MB 3.4 MB/s eta 0:00:41\n",
      "   ------------ --------------------------- 64.5/203.1 MB 3.5 MB/s eta 0:00:41\n",
      "   ------------ --------------------------- 65.0/203.1 MB 3.5 MB/s eta 0:00:41\n",
      "   ------------ --------------------------- 65.8/203.1 MB 3.5 MB/s eta 0:00:40\n",
      "   ------------- -------------------------- 66.6/203.1 MB 3.5 MB/s eta 0:00:40\n",
      "   ------------- -------------------------- 67.4/203.1 MB 3.4 MB/s eta 0:00:40\n",
      "   ------------- -------------------------- 68.2/203.1 MB 3.4 MB/s eta 0:00:40\n",
      "   ------------- -------------------------- 68.7/203.1 MB 3.5 MB/s eta 0:00:39\n",
      "   ------------- -------------------------- 69.5/203.1 MB 3.4 MB/s eta 0:00:39\n",
      "   ------------- -------------------------- 70.3/203.1 MB 3.5 MB/s eta 0:00:39\n",
      "   ------------- -------------------------- 71.0/203.1 MB 3.4 MB/s eta 0:00:39\n",
      "   -------------- ------------------------- 71.8/203.1 MB 3.5 MB/s eta 0:00:39\n",
      "   -------------- ------------------------- 72.4/203.1 MB 3.5 MB/s eta 0:00:38\n",
      "   -------------- ------------------------- 73.1/203.1 MB 3.5 MB/s eta 0:00:38\n",
      "   -------------- ------------------------- 73.9/203.1 MB 3.5 MB/s eta 0:00:38\n",
      "   -------------- ------------------------- 74.7/203.1 MB 3.5 MB/s eta 0:00:38\n",
      "   -------------- ------------------------- 75.5/203.1 MB 3.5 MB/s eta 0:00:37\n",
      "   --------------- ------------------------ 76.3/203.1 MB 3.5 MB/s eta 0:00:37\n",
      "   --------------- ------------------------ 77.1/203.1 MB 3.5 MB/s eta 0:00:37\n",
      "   --------------- ------------------------ 77.6/203.1 MB 3.5 MB/s eta 0:00:37\n",
      "   --------------- ------------------------ 78.4/203.1 MB 3.5 MB/s eta 0:00:37\n",
      "   --------------- ------------------------ 79.2/203.1 MB 3.5 MB/s eta 0:00:36\n",
      "   --------------- ------------------------ 79.7/203.1 MB 3.4 MB/s eta 0:00:36\n",
      "   --------------- ------------------------ 80.5/203.1 MB 3.4 MB/s eta 0:00:36\n",
      "   ---------------- ----------------------- 81.3/203.1 MB 3.4 MB/s eta 0:00:36\n",
      "   ---------------- ----------------------- 82.1/203.1 MB 3.4 MB/s eta 0:00:36\n",
      "   ---------------- ----------------------- 82.6/203.1 MB 3.4 MB/s eta 0:00:35\n",
      "   ---------------- ----------------------- 83.4/203.1 MB 3.4 MB/s eta 0:00:35\n",
      "   ---------------- ----------------------- 84.1/203.1 MB 3.4 MB/s eta 0:00:35\n",
      "   ---------------- ----------------------- 84.9/203.1 MB 3.4 MB/s eta 0:00:35\n",
      "   ---------------- ----------------------- 85.7/203.1 MB 3.4 MB/s eta 0:00:35\n",
      "   ----------------- ---------------------- 86.5/203.1 MB 3.4 MB/s eta 0:00:34\n",
      "   ----------------- ---------------------- 87.0/203.1 MB 3.4 MB/s eta 0:00:34\n",
      "   ----------------- ---------------------- 87.8/203.1 MB 3.5 MB/s eta 0:00:34\n",
      "   ----------------- ---------------------- 88.6/203.1 MB 3.4 MB/s eta 0:00:34\n",
      "   ----------------- ---------------------- 89.4/203.1 MB 3.5 MB/s eta 0:00:33\n",
      "   ----------------- ---------------------- 89.9/203.1 MB 3.5 MB/s eta 0:00:33\n",
      "   ----------------- ---------------------- 90.7/203.1 MB 3.4 MB/s eta 0:00:33\n",
      "   ------------------ --------------------- 91.5/203.1 MB 3.5 MB/s eta 0:00:33\n",
      "   ------------------ --------------------- 92.0/203.1 MB 3.5 MB/s eta 0:00:33\n",
      "   ------------------ --------------------- 92.8/203.1 MB 3.4 MB/s eta 0:00:32\n",
      "   ------------------ --------------------- 93.6/203.1 MB 3.5 MB/s eta 0:00:32\n",
      "   ------------------ --------------------- 94.4/203.1 MB 3.4 MB/s eta 0:00:32\n",
      "   ------------------ --------------------- 95.2/203.1 MB 3.5 MB/s eta 0:00:32\n",
      "   ------------------ --------------------- 95.9/203.1 MB 3.5 MB/s eta 0:00:32\n",
      "   ------------------- -------------------- 96.7/203.1 MB 3.5 MB/s eta 0:00:31\n",
      "   ------------------- -------------------- 97.3/203.1 MB 3.5 MB/s eta 0:00:31\n",
      "   ------------------- -------------------- 98.0/203.1 MB 3.4 MB/s eta 0:00:31\n",
      "   ------------------- -------------------- 98.6/203.1 MB 3.4 MB/s eta 0:00:31\n",
      "   ------------------- -------------------- 99.4/203.1 MB 3.4 MB/s eta 0:00:31\n",
      "   ------------------- -------------------- 100.1/203.1 MB 3.4 MB/s eta 0:00:30\n",
      "   ------------------- -------------------- 100.9/203.1 MB 3.4 MB/s eta 0:00:30\n",
      "   -------------------- ------------------- 101.7/203.1 MB 3.4 MB/s eta 0:00:30\n",
      "   -------------------- ------------------- 102.5/203.1 MB 3.4 MB/s eta 0:00:30\n",
      "   -------------------- ------------------- 103.0/203.1 MB 3.4 MB/s eta 0:00:30\n",
      "   -------------------- ------------------- 103.8/203.1 MB 3.5 MB/s eta 0:00:29\n",
      "   -------------------- ------------------- 104.6/203.1 MB 3.4 MB/s eta 0:00:29\n",
      "   -------------------- ------------------- 105.4/203.1 MB 3.4 MB/s eta 0:00:29\n",
      "   -------------------- ------------------- 106.2/203.1 MB 3.5 MB/s eta 0:00:29\n",
      "   --------------------- ------------------ 107.0/203.1 MB 3.4 MB/s eta 0:00:28\n",
      "   --------------------- ------------------ 107.7/203.1 MB 3.5 MB/s eta 0:00:28\n",
      "   --------------------- ------------------ 108.3/203.1 MB 3.4 MB/s eta 0:00:28\n",
      "   --------------------- ------------------ 109.1/203.1 MB 3.4 MB/s eta 0:00:28\n",
      "   --------------------- ------------------ 109.8/203.1 MB 3.4 MB/s eta 0:00:28\n",
      "   --------------------- ------------------ 110.6/203.1 MB 3.4 MB/s eta 0:00:27\n",
      "   --------------------- ------------------ 111.1/203.1 MB 3.4 MB/s eta 0:00:27\n",
      "   ---------------------- ----------------- 111.9/203.1 MB 3.4 MB/s eta 0:00:27\n",
      "   ---------------------- ----------------- 112.7/203.1 MB 3.4 MB/s eta 0:00:27\n",
      "   ---------------------- ----------------- 113.5/203.1 MB 3.4 MB/s eta 0:00:26\n",
      "   ---------------------- ----------------- 114.3/203.1 MB 3.4 MB/s eta 0:00:26\n",
      "   ---------------------- ----------------- 115.1/203.1 MB 3.4 MB/s eta 0:00:26\n",
      "   ---------------------- ----------------- 115.6/203.1 MB 3.4 MB/s eta 0:00:26\n",
      "   ---------------------- ----------------- 116.4/203.1 MB 3.4 MB/s eta 0:00:26\n",
      "   ----------------------- ---------------- 117.2/203.1 MB 3.4 MB/s eta 0:00:25\n",
      "   ----------------------- ---------------- 118.0/203.1 MB 3.4 MB/s eta 0:00:25\n",
      "   ----------------------- ---------------- 118.8/203.1 MB 3.4 MB/s eta 0:00:25\n",
      "   ----------------------- ---------------- 119.3/203.1 MB 3.4 MB/s eta 0:00:25\n",
      "   ----------------------- ---------------- 120.1/203.1 MB 3.4 MB/s eta 0:00:25\n",
      "   ----------------------- ---------------- 120.8/203.1 MB 3.4 MB/s eta 0:00:24\n",
      "   ----------------------- ---------------- 121.6/203.1 MB 3.4 MB/s eta 0:00:24\n",
      "   ------------------------ --------------- 122.4/203.1 MB 3.4 MB/s eta 0:00:24\n",
      "   ------------------------ --------------- 122.9/203.1 MB 3.4 MB/s eta 0:00:24\n",
      "   ------------------------ --------------- 123.7/203.1 MB 3.5 MB/s eta 0:00:24\n",
      "   ------------------------ --------------- 124.5/203.1 MB 3.4 MB/s eta 0:00:23\n",
      "   ------------------------ --------------- 125.3/203.1 MB 3.4 MB/s eta 0:00:23\n",
      "   ------------------------ --------------- 125.8/203.1 MB 3.4 MB/s eta 0:00:23\n",
      "   ------------------------ --------------- 126.6/203.1 MB 3.4 MB/s eta 0:00:23\n",
      "   ------------------------- -------------- 127.4/203.1 MB 3.4 MB/s eta 0:00:22\n",
      "   ------------------------- -------------- 128.2/203.1 MB 3.4 MB/s eta 0:00:22\n",
      "   ------------------------- -------------- 129.0/203.1 MB 3.4 MB/s eta 0:00:22\n",
      "   ------------------------- -------------- 129.8/203.1 MB 3.4 MB/s eta 0:00:22\n",
      "   ------------------------- -------------- 130.3/203.1 MB 3.4 MB/s eta 0:00:22\n",
      "   ------------------------- -------------- 131.1/203.1 MB 3.4 MB/s eta 0:00:21\n",
      "   ------------------------- -------------- 131.9/203.1 MB 3.4 MB/s eta 0:00:21\n",
      "   -------------------------- ------------- 132.6/203.1 MB 3.4 MB/s eta 0:00:21\n",
      "   -------------------------- ------------- 133.4/203.1 MB 3.4 MB/s eta 0:00:21\n",
      "   -------------------------- ------------- 134.0/203.1 MB 3.4 MB/s eta 0:00:21\n",
      "   -------------------------- ------------- 134.7/203.1 MB 3.4 MB/s eta 0:00:20\n",
      "   -------------------------- ------------- 135.3/203.1 MB 3.4 MB/s eta 0:00:20\n",
      "   -------------------------- ------------- 136.1/203.1 MB 3.4 MB/s eta 0:00:20\n",
      "   -------------------------- ------------- 136.8/203.1 MB 3.4 MB/s eta 0:00:20\n",
      "   --------------------------- ------------ 137.6/203.1 MB 3.4 MB/s eta 0:00:20\n",
      "   --------------------------- ------------ 138.1/203.1 MB 3.4 MB/s eta 0:00:19\n",
      "   --------------------------- ------------ 138.9/203.1 MB 3.4 MB/s eta 0:00:19\n",
      "   --------------------------- ------------ 139.5/203.1 MB 3.4 MB/s eta 0:00:19\n",
      "   --------------------------- ------------ 140.0/203.1 MB 3.4 MB/s eta 0:00:19\n",
      "   --------------------------- ------------ 140.8/203.1 MB 3.4 MB/s eta 0:00:19\n",
      "   --------------------------- ------------ 141.6/203.1 MB 3.4 MB/s eta 0:00:18\n",
      "   ---------------------------- ----------- 142.3/203.1 MB 3.4 MB/s eta 0:00:18\n",
      "   ---------------------------- ----------- 143.1/203.1 MB 3.4 MB/s eta 0:00:18\n",
      "   ---------------------------- ----------- 143.9/203.1 MB 3.4 MB/s eta 0:00:18\n",
      "   ---------------------------- ----------- 144.4/203.1 MB 3.4 MB/s eta 0:00:18\n",
      "   ---------------------------- ----------- 145.2/203.1 MB 3.4 MB/s eta 0:00:17\n",
      "   ---------------------------- ----------- 145.8/203.1 MB 3.4 MB/s eta 0:00:17\n",
      "   ---------------------------- ----------- 146.5/203.1 MB 3.4 MB/s eta 0:00:17\n",
      "   ----------------------------- ---------- 147.3/203.1 MB 3.4 MB/s eta 0:00:17\n",
      "   ----------------------------- ---------- 148.1/203.1 MB 3.4 MB/s eta 0:00:17\n",
      "   ----------------------------- ---------- 148.9/203.1 MB 3.4 MB/s eta 0:00:16\n",
      "   ----------------------------- ---------- 149.4/203.1 MB 3.4 MB/s eta 0:00:16\n",
      "   ----------------------------- ---------- 150.2/203.1 MB 3.4 MB/s eta 0:00:16\n",
      "   ----------------------------- ---------- 151.0/203.1 MB 3.4 MB/s eta 0:00:16\n",
      "   ----------------------------- ---------- 151.5/203.1 MB 3.4 MB/s eta 0:00:16\n",
      "   ----------------------------- ---------- 152.3/203.1 MB 3.4 MB/s eta 0:00:15\n",
      "   ------------------------------ --------- 153.1/203.1 MB 3.4 MB/s eta 0:00:15\n",
      "   ------------------------------ --------- 153.9/203.1 MB 3.4 MB/s eta 0:00:15\n",
      "   ------------------------------ --------- 154.7/203.1 MB 3.4 MB/s eta 0:00:15\n",
      "   ------------------------------ --------- 155.2/203.1 MB 3.4 MB/s eta 0:00:15\n",
      "   ------------------------------ --------- 156.0/203.1 MB 3.4 MB/s eta 0:00:14\n",
      "   ------------------------------ --------- 156.8/203.1 MB 3.4 MB/s eta 0:00:14\n",
      "   ------------------------------ --------- 157.3/203.1 MB 3.4 MB/s eta 0:00:14\n",
      "   ------------------------------- -------- 158.1/203.1 MB 3.4 MB/s eta 0:00:14\n",
      "   ------------------------------- -------- 158.6/203.1 MB 3.4 MB/s eta 0:00:14\n",
      "   ------------------------------- -------- 159.4/203.1 MB 3.4 MB/s eta 0:00:13\n",
      "   ------------------------------- -------- 159.9/203.1 MB 3.4 MB/s eta 0:00:13\n",
      "   ------------------------------- -------- 160.7/203.1 MB 3.4 MB/s eta 0:00:13\n",
      "   ------------------------------- -------- 161.5/203.1 MB 3.4 MB/s eta 0:00:13\n",
      "   ------------------------------- -------- 162.0/203.1 MB 3.4 MB/s eta 0:00:13\n",
      "   -------------------------------- ------- 162.8/203.1 MB 3.4 MB/s eta 0:00:12\n",
      "   -------------------------------- ------- 163.6/203.1 MB 3.4 MB/s eta 0:00:12\n",
      "   -------------------------------- ------- 164.4/203.1 MB 3.4 MB/s eta 0:00:12\n",
      "   -------------------------------- ------- 165.2/203.1 MB 3.4 MB/s eta 0:00:12\n",
      "   -------------------------------- ------- 165.7/203.1 MB 3.4 MB/s eta 0:00:11\n",
      "   -------------------------------- ------- 166.5/203.1 MB 3.4 MB/s eta 0:00:11\n",
      "   -------------------------------- ------- 167.2/203.1 MB 3.4 MB/s eta 0:00:11\n",
      "   --------------------------------- ------ 168.0/203.1 MB 3.4 MB/s eta 0:00:11\n",
      "   --------------------------------- ------ 168.8/203.1 MB 3.4 MB/s eta 0:00:11\n",
      "   --------------------------------- ------ 169.3/203.1 MB 3.4 MB/s eta 0:00:10\n",
      "   --------------------------------- ------ 170.1/203.1 MB 3.4 MB/s eta 0:00:10\n",
      "   --------------------------------- ------ 170.9/203.1 MB 3.4 MB/s eta 0:00:10\n",
      "   --------------------------------- ------ 171.7/203.1 MB 3.4 MB/s eta 0:00:10\n",
      "   --------------------------------- ------ 172.2/203.1 MB 3.4 MB/s eta 0:00:10\n",
      "   ---------------------------------- ----- 173.0/203.1 MB 3.4 MB/s eta 0:00:09\n",
      "   ---------------------------------- ----- 173.8/203.1 MB 3.4 MB/s eta 0:00:09\n",
      "   ---------------------------------- ----- 174.6/203.1 MB 3.4 MB/s eta 0:00:09\n",
      "   ---------------------------------- ----- 175.4/203.1 MB 3.4 MB/s eta 0:00:09\n",
      "   ---------------------------------- ----- 176.2/203.1 MB 3.4 MB/s eta 0:00:08\n",
      "   ---------------------------------- ----- 176.7/203.1 MB 3.4 MB/s eta 0:00:08\n",
      "   ---------------------------------- ----- 177.2/203.1 MB 3.4 MB/s eta 0:00:08\n",
      "   ----------------------------------- ---- 178.0/203.1 MB 3.4 MB/s eta 0:00:08\n",
      "   ----------------------------------- ---- 178.5/203.1 MB 3.4 MB/s eta 0:00:08\n",
      "   ----------------------------------- ---- 179.3/203.1 MB 3.4 MB/s eta 0:00:07\n",
      "   ----------------------------------- ---- 180.1/203.1 MB 3.4 MB/s eta 0:00:07\n",
      "   ----------------------------------- ---- 180.9/203.1 MB 3.4 MB/s eta 0:00:07\n",
      "   ----------------------------------- ---- 181.7/203.1 MB 3.4 MB/s eta 0:00:07\n",
      "   ----------------------------------- ---- 182.2/203.1 MB 3.4 MB/s eta 0:00:07\n",
      "   ------------------------------------ --- 183.0/203.1 MB 3.4 MB/s eta 0:00:06\n",
      "   ------------------------------------ --- 183.8/203.1 MB 3.4 MB/s eta 0:00:06\n",
      "   ------------------------------------ --- 184.5/203.1 MB 3.4 MB/s eta 0:00:06\n",
      "   ------------------------------------ --- 185.3/203.1 MB 3.4 MB/s eta 0:00:06\n",
      "   ------------------------------------ --- 185.9/203.1 MB 3.4 MB/s eta 0:00:06\n",
      "   ------------------------------------ --- 186.6/203.1 MB 3.4 MB/s eta 0:00:05\n",
      "   ------------------------------------ --- 187.4/203.1 MB 3.4 MB/s eta 0:00:05\n",
      "   ------------------------------------- -- 188.2/203.1 MB 3.4 MB/s eta 0:00:05\n",
      "   ------------------------------------- -- 188.7/203.1 MB 3.4 MB/s eta 0:00:05\n",
      "   ------------------------------------- -- 189.5/203.1 MB 3.4 MB/s eta 0:00:04\n",
      "   ------------------------------------- -- 190.3/203.1 MB 3.4 MB/s eta 0:00:04\n",
      "   ------------------------------------- -- 191.1/203.1 MB 3.4 MB/s eta 0:00:04\n",
      "   ------------------------------------- -- 191.9/203.1 MB 3.4 MB/s eta 0:00:04\n",
      "   ------------------------------------- -- 192.7/203.1 MB 3.4 MB/s eta 0:00:04\n",
      "   -------------------------------------- - 193.5/203.1 MB 3.4 MB/s eta 0:00:03\n",
      "   -------------------------------------- - 194.0/203.1 MB 3.4 MB/s eta 0:00:03\n",
      "   -------------------------------------- - 194.8/203.1 MB 3.4 MB/s eta 0:00:03\n",
      "   -------------------------------------- - 195.6/203.1 MB 3.4 MB/s eta 0:00:03\n",
      "   -------------------------------------- - 196.3/203.1 MB 3.4 MB/s eta 0:00:02\n",
      "   -------------------------------------- - 196.9/203.1 MB 3.4 MB/s eta 0:00:02\n",
      "   -------------------------------------- - 197.7/203.1 MB 3.4 MB/s eta 0:00:02\n",
      "   ---------------------------------------  198.4/203.1 MB 3.4 MB/s eta 0:00:02\n",
      "   ---------------------------------------  199.2/203.1 MB 3.4 MB/s eta 0:00:02\n",
      "   ---------------------------------------  200.0/203.1 MB 3.4 MB/s eta 0:00:01\n",
      "   ---------------------------------------  200.8/203.1 MB 3.4 MB/s eta 0:00:01\n",
      "   ---------------------------------------  201.3/203.1 MB 3.4 MB/s eta 0:00:01\n",
      "   ---------------------------------------  202.1/203.1 MB 3.4 MB/s eta 0:00:01\n",
      "   ---------------------------------------  202.9/203.1 MB 3.4 MB/s eta 0:00:01\n",
      "   ---------------------------------------  202.9/203.1 MB 3.4 MB/s eta 0:00:01\n",
      "   ---------------------------------------- 203.1/203.1 MB 3.4 MB/s eta 0:00:00\n",
      "Downloading sympy-1.13.1-py3-none-any.whl (6.2 MB)\n",
      "   ---------------------------------------- 0.0/6.2 MB ? eta -:--:--\n",
      "   --- ------------------------------------ 0.5/6.2 MB 4.2 MB/s eta 0:00:02\n",
      "   -------- ------------------------------- 1.3/6.2 MB 3.5 MB/s eta 0:00:02\n",
      "   ------------- -------------------------- 2.1/6.2 MB 3.5 MB/s eta 0:00:02\n",
      "   ------------------ --------------------- 2.9/6.2 MB 3.5 MB/s eta 0:00:01\n",
      "   ---------------------- ----------------- 3.4/6.2 MB 3.5 MB/s eta 0:00:01\n",
      "   --------------------------- ------------ 4.2/6.2 MB 3.4 MB/s eta 0:00:01\n",
      "   -------------------------------- ------- 5.0/6.2 MB 3.5 MB/s eta 0:00:01\n",
      "   ------------------------------------- -- 5.8/6.2 MB 3.5 MB/s eta 0:00:01\n",
      "   ---------------------------------------- 6.2/6.2 MB 3.4 MB/s eta 0:00:00\n",
      "Downloading filelock-3.16.1-py3-none-any.whl (16 kB)\n",
      "Downloading fsspec-2024.12.0-py3-none-any.whl (183 kB)\n",
      "Downloading networkx-3.4.2-py3-none-any.whl (1.7 MB)\n",
      "   ---------------------------------------- 0.0/1.7 MB ? eta -:--:--\n",
      "   ------------ --------------------------- 0.5/1.7 MB 3.4 MB/s eta 0:00:01\n",
      "   ------------------------------ --------- 1.3/1.7 MB 3.4 MB/s eta 0:00:01\n",
      "   ---------------------------------------- 1.7/1.7 MB 3.3 MB/s eta 0:00:00\n",
      "Downloading mpmath-1.3.0-py3-none-any.whl (536 kB)\n",
      "   ---------------------------------------- 0.0/536.2 kB ? eta -:--:--\n",
      "   ---------------------------------------- 536.2/536.2 kB 2.9 MB/s eta 0:00:00\n",
      "Installing collected packages: mpmath, sympy, networkx, fsspec, filelock, torch\n",
      "Successfully installed filelock-3.16.1 fsspec-2024.12.0 mpmath-1.3.0 networkx-3.4.2 sympy-1.13.1 torch-2.5.1\n"
     ]
    }
   ],
   "source": [
    "#!pip install matplotlib\n",
    "#!pip install Seaborn\n",
    "#!pip install openpyxl\n",
    "#!pip install scipy\n",
    "#!pip install geopandas\n",
    "#!pip install scikit-learn\n",
    "#!pip install statsmodels\n",
    "#!pip install folium\n",
    "#!pip install plotly\n",
    "#!pip install --upgrade seaborn\n",
    "#!pip install jupyter\n",
    "#!pip install nbformat\n",
    "#!pip install fanalysis\n",
    "!pip install torch\n"
   ]
  },
  {
   "cell_type": "markdown",
   "metadata": {
    "id": "is_zpx-OFk0a"
   },
   "source": [
    "## <font color='blue'>Importation des bibliothèques </font>"
   ]
  },
  {
   "cell_type": "code",
   "execution_count": 54,
   "metadata": {
    "executionInfo": {
     "elapsed": 3094,
     "status": "ok",
     "timestamp": 1734963302208,
     "user": {
      "displayName": "AnChriHao AnChriHao",
      "userId": "01629242505074473503"
     },
     "user_tz": -60
    },
    "id": "7QdZP_K-Fk0a"
   },
   "outputs": [],
   "source": [
    "import pandas as pd  #Pour les dataframe\n",
    "import numpy as np #Pour le calcul numérique\n",
    "import datetime as dt # Pour le calcul sur les dates\n",
    "\n",
    "# Normalisation pour preprocessing\n",
    "from sklearn.preprocessing import StandardScaler, RobustScaler, MinMaxScaler\n",
    "\n",
    "# Libraries divers\n",
    "from copy import deepcopy  # gestion des copies\n",
    "from pyproj import Proj # conversion entre les coordonnées British national grid et latitude/longitude\n",
    "from scipy import stats # notamment pour boxplot\n",
    "\n",
    "# Pour la séparation du jeu de données\n",
    "from sklearn.model_selection import train_test_split\n",
    "\n",
    "# Pour réduction de dimension\n",
    "from sklearn.decomposition import PCA\n",
    "import matplotlib.pyplot as plt\n",
    "from fanalysis.mca import MCA\n",
    "%matplotlib inline\n",
    "\n",
    "# Enregistrement du model\n",
    "import torch\n"
   ]
  },
  {
   "cell_type": "markdown",
   "metadata": {
    "id": "cIWNgIS4YoUS"
   },
   "source": [
    "## <font color='blue'>Liaison avec le drive (pour travailler sur GoogleColab) </font>"
   ]
  },
  {
   "cell_type": "code",
   "execution_count": 4,
   "metadata": {
    "colab": {
     "base_uri": "https://localhost:8080/"
    },
    "executionInfo": {
     "elapsed": 1524,
     "status": "ok",
     "timestamp": 1734963307120,
     "user": {
      "displayName": "AnChriHao AnChriHao",
      "userId": "01629242505074473503"
     },
     "user_tz": -60
    },
    "id": "E2JoJzk-Yheg",
    "outputId": "ff07e8d5-5507-4f79-b1ce-e8f524280381"
   },
   "outputs": [
    {
     "name": "stdout",
     "output_type": "stream",
     "text": [
      "Drive already mounted at /content/gdrive; to attempt to forcibly remount, call drive.mount(\"/content/gdrive\", force_remount=True).\n"
     ]
    }
   ],
   "source": [
    "from google.colab import drive\n",
    "drive.mount('/content/gdrive')"
   ]
  },
  {
   "cell_type": "markdown",
   "metadata": {
    "id": "jaiGyQtEoVEl"
   },
   "source": [
    "# <font color='red'>2) Récupération des données (cf Exploration de données)</font>"
   ]
  },
  {
   "cell_type": "markdown",
   "metadata": {
    "id": "1Kv1NXFJFk0f"
   },
   "source": [
    "Code pour travailler sur GoogleColab"
   ]
  },
  {
   "cell_type": "code",
   "execution_count": null,
   "metadata": {
    "id": "ZAdWQ9JNY2sM"
   },
   "outputs": [],
   "source": [
    "dfim = pd.read_csv('/content/gdrive/My Drive/1_Rendu/20241115/LFB incident et mobilisation data.csv', low_memory=False)\n",
    "\n",
    "# modification du type pour les colonnes date\n",
    "dfim.DateOfCall=pd.to_datetime(dfim.DateOfCall)\n",
    "dfim.DateAndTimeMobilised=pd.to_datetime(dfim.DateAndTimeMobilised)\n",
    "dfim.DateAndTimeMobile=pd.to_datetime(dfim.DateAndTimeMobile)\n",
    "dfim.DateAndTimeArrived=pd.to_datetime(dfim.DateAndTimeArrived)\n",
    "\n",
    "# df_2023=dfim[dfim.CalYear==2023].copy(deep=True)"
   ]
  },
  {
   "cell_type": "markdown",
   "metadata": {
    "id": "Rj_ja6fFFk0g"
   },
   "source": [
    "Code pour travail en local"
   ]
  },
  {
   "cell_type": "code",
   "execution_count": null,
   "metadata": {
    "id": "d3hIIuPmFk0g"
   },
   "outputs": [],
   "source": [
    "dfim = pd.read_csv('../Data/Datapreprocessing/LFB incident et mobilisation data.csv',low_memory=False)\n",
    "\n",
    "# modification du type pour les colonnes date\n",
    "dfim.DateOfCall=pd.to_datetime(dfim.DateOfCall)\n",
    "dfim.DateAndTimeMobilised=pd.to_datetime(dfim.DateAndTimeMobilised)\n",
    "dfim.DateAndTimeMobile=pd.to_datetime(dfim.DateAndTimeMobile)\n",
    "dfim.DateAndTimeArrived=pd.to_datetime(dfim.DateAndTimeArrived)\n",
    "\n",
    "# df_2023=dfim[dfim.CalYear==2023]"
   ]
  },
  {
   "cell_type": "markdown",
   "metadata": {
    "id": "IZKk1AtncAg9"
   },
   "source": [
    "# <font color='red'> 3) Jeux de données pour la modélisation (avant split) </font>"
   ]
  },
  {
   "cell_type": "markdown",
   "metadata": {
    "id": "bH-Uf6Y179cy"
   },
   "source": [
    "## <font color='blue'>3.a) Transformation Box-Cox </font>"
   ]
  },
  {
   "cell_type": "markdown",
   "metadata": {
    "id": "NYIG8mY1L2hF"
   },
   "source": [
    "On a choisi de calculer le lambda de la transformation pour chaque variable sur l'ensemble des données (`dfim`) et non sur la seule année 2023 (`df_2023` précédemment étudié).\n",
    "\n",
    "On obtient :\n",
    "- pour `TurnoutTimeSeconds` un lambda de 0,4220\n",
    "- pour `TravelTimeSeconds` un lambda de 0,5073\n",
    "- pour `TotalResponseTime` un lambda de 0,4589"
   ]
  },
  {
   "cell_type": "code",
   "execution_count": null,
   "metadata": {
    "colab": {
     "base_uri": "https://localhost:8080/"
    },
    "executionInfo": {
     "elapsed": 17461,
     "status": "ok",
     "timestamp": 1734869482333,
     "user": {
      "displayName": "AnChriHao AnChriHao",
      "userId": "01629242505074473503"
     },
     "user_tz": -60
    },
    "id": "DduyWfNiL2hF",
    "outputId": "2232ba8d-97e9-4ae6-c6bb-6e2985a9b3b0"
   },
   "outputs": [
    {
     "name": "stdout",
     "output_type": "stream",
     "text": [
      "Lambda optimal pour la variable : TurnoutTimeSeconds est 0.42199745688140766\n",
      "Lambda optimal pour la variable : TravelTimeSeconds est 0.5073020319480925\n",
      "Lambda optimal pour la variable : TotalResponseTime est 0.4588683833483651\n"
     ]
    }
   ],
   "source": [
    "# Liste des variables à transformer\n",
    "variables = ['TurnoutTimeSeconds', 'TravelTimeSeconds', 'TotalResponseTime']\n",
    "\n",
    "# Appliquer la transformation de Box-Cox avec lambda_optimal à toutes les variables\n",
    "for variable in variables:\n",
    "    dfim[f'boxcox_{variable}'], lambda_optimal = stats.boxcox(dfim[variable])\n",
    "    print(f\"Lambda optimal pour la variable : {variable} est {lambda_optimal}\")\n"
   ]
  },
  {
   "cell_type": "code",
   "execution_count": null,
   "metadata": {
    "colab": {
     "base_uri": "https://localhost:8080/",
     "height": 300
    },
    "executionInfo": {
     "elapsed": 591,
     "status": "ok",
     "timestamp": 1734869495278,
     "user": {
      "displayName": "AnChriHao AnChriHao",
      "userId": "01629242505074473503"
     },
     "user_tz": -60
    },
    "id": "v1SIm8WaXX2Y",
    "outputId": "292b9e26-0d73-454b-e104-56a9ae919f45"
   },
   "outputs": [
    {
     "data": {
      "application/vnd.google.colaboratory.intrinsic+json": {
       "summary": "{\n  \"name\": \"dfim[['TurnoutTimeSeconds', 'boxcox_TurnoutTimeSeconds','TravelTimeSeconds', 'boxcox_TravelTimeSeconds', 'TotalResponseTime', 'boxcox_TotalResponseTime']]\",\n  \"rows\": 8,\n  \"fields\": [\n    {\n      \"column\": \"TurnoutTimeSeconds\",\n      \"properties\": {\n        \"dtype\": \"string\",\n        \"num_unique_values\": 8,\n        \"samples\": [\n          \"72.57\",\n          \"69.00\",\n          \"1037713.00\"\n        ],\n        \"semantic_type\": \"\",\n        \"description\": \"\"\n      }\n    },\n    {\n      \"column\": \"boxcox_TurnoutTimeSeconds\",\n      \"properties\": {\n        \"dtype\": \"string\",\n        \"num_unique_values\": 8,\n        \"samples\": [\n          \"11.65\",\n          \"11.78\",\n          \"1037713.00\"\n        ],\n        \"semantic_type\": \"\",\n        \"description\": \"\"\n      }\n    },\n    {\n      \"column\": \"TravelTimeSeconds\",\n      \"properties\": {\n        \"dtype\": \"string\",\n        \"num_unique_values\": 8,\n        \"samples\": [\n          \"245.51\",\n          \"225.00\",\n          \"1037713.00\"\n        ],\n        \"semantic_type\": \"\",\n        \"description\": \"\"\n      }\n    },\n    {\n      \"column\": \"boxcox_TravelTimeSeconds\",\n      \"properties\": {\n        \"dtype\": \"string\",\n        \"num_unique_values\": 8,\n        \"samples\": [\n          \"29.07\",\n          \"28.79\",\n          \"1037713.00\"\n        ],\n        \"semantic_type\": \"\",\n        \"description\": \"\"\n      }\n    },\n    {\n      \"column\": \"TotalResponseTime\",\n      \"properties\": {\n        \"dtype\": \"string\",\n        \"num_unique_values\": 8,\n        \"samples\": [\n          \"318.07\",\n          \"298.00\",\n          \"1037713.00\"\n        ],\n        \"semantic_type\": \"\",\n        \"description\": \"\"\n      }\n    },\n    {\n      \"column\": \"boxcox_TotalResponseTime\",\n      \"properties\": {\n        \"dtype\": \"string\",\n        \"num_unique_values\": 8,\n        \"samples\": [\n          \"27.86\",\n          \"27.58\",\n          \"1037713.00\"\n        ],\n        \"semantic_type\": \"\",\n        \"description\": \"\"\n      }\n    }\n  ]\n}",
       "type": "dataframe"
      },
      "text/html": [
       "\n",
       "  <div id=\"df-4f6e9a1a-ac21-41da-9e5f-36d6a880f9fc\" class=\"colab-df-container\">\n",
       "    <div>\n",
       "<style scoped>\n",
       "    .dataframe tbody tr th:only-of-type {\n",
       "        vertical-align: middle;\n",
       "    }\n",
       "\n",
       "    .dataframe tbody tr th {\n",
       "        vertical-align: top;\n",
       "    }\n",
       "\n",
       "    .dataframe thead th {\n",
       "        text-align: right;\n",
       "    }\n",
       "</style>\n",
       "<table border=\"1\" class=\"dataframe\">\n",
       "  <thead>\n",
       "    <tr style=\"text-align: right;\">\n",
       "      <th></th>\n",
       "      <th>TurnoutTimeSeconds</th>\n",
       "      <th>boxcox_TurnoutTimeSeconds</th>\n",
       "      <th>TravelTimeSeconds</th>\n",
       "      <th>boxcox_TravelTimeSeconds</th>\n",
       "      <th>TotalResponseTime</th>\n",
       "      <th>boxcox_TotalResponseTime</th>\n",
       "    </tr>\n",
       "  </thead>\n",
       "  <tbody>\n",
       "    <tr>\n",
       "      <th>count</th>\n",
       "      <td>1037713.00</td>\n",
       "      <td>1037713.00</td>\n",
       "      <td>1037713.00</td>\n",
       "      <td>1037713.00</td>\n",
       "      <td>1037713.00</td>\n",
       "      <td>1037713.00</td>\n",
       "    </tr>\n",
       "    <tr>\n",
       "      <th>mean</th>\n",
       "      <td>72.57</td>\n",
       "      <td>11.65</td>\n",
       "      <td>245.51</td>\n",
       "      <td>29.07</td>\n",
       "      <td>318.07</td>\n",
       "      <td>27.86</td>\n",
       "    </tr>\n",
       "    <tr>\n",
       "      <th>std</th>\n",
       "      <td>38.32</td>\n",
       "      <td>3.02</td>\n",
       "      <td>129.94</td>\n",
       "      <td>8.49</td>\n",
       "      <td>131.89</td>\n",
       "      <td>5.68</td>\n",
       "    </tr>\n",
       "    <tr>\n",
       "      <th>min</th>\n",
       "      <td>1.00</td>\n",
       "      <td>0.00</td>\n",
       "      <td>1.00</td>\n",
       "      <td>0.00</td>\n",
       "      <td>2.00</td>\n",
       "      <td>0.82</td>\n",
       "    </tr>\n",
       "    <tr>\n",
       "      <th>25%</th>\n",
       "      <td>51.00</td>\n",
       "      <td>10.08</td>\n",
       "      <td>161.00</td>\n",
       "      <td>23.99</td>\n",
       "      <td>234.00</td>\n",
       "      <td>24.46</td>\n",
       "    </tr>\n",
       "    <tr>\n",
       "      <th>50%</th>\n",
       "      <td>69.00</td>\n",
       "      <td>11.78</td>\n",
       "      <td>225.00</td>\n",
       "      <td>28.79</td>\n",
       "      <td>298.00</td>\n",
       "      <td>27.58</td>\n",
       "    </tr>\n",
       "    <tr>\n",
       "      <th>75%</th>\n",
       "      <td>88.00</td>\n",
       "      <td>13.31</td>\n",
       "      <td>304.00</td>\n",
       "      <td>33.86</td>\n",
       "      <td>377.00</td>\n",
       "      <td>30.97</td>\n",
       "    </tr>\n",
       "    <tr>\n",
       "      <th>max</th>\n",
       "      <td>1192.00</td>\n",
       "      <td>44.71</td>\n",
       "      <td>1181.00</td>\n",
       "      <td>69.36</td>\n",
       "      <td>1200.00</td>\n",
       "      <td>54.22</td>\n",
       "    </tr>\n",
       "  </tbody>\n",
       "</table>\n",
       "</div>\n",
       "    <div class=\"colab-df-buttons\">\n",
       "\n",
       "  <div class=\"colab-df-container\">\n",
       "    <button class=\"colab-df-convert\" onclick=\"convertToInteractive('df-4f6e9a1a-ac21-41da-9e5f-36d6a880f9fc')\"\n",
       "            title=\"Convert this dataframe to an interactive table.\"\n",
       "            style=\"display:none;\">\n",
       "\n",
       "  <svg xmlns=\"http://www.w3.org/2000/svg\" height=\"24px\" viewBox=\"0 -960 960 960\">\n",
       "    <path d=\"M120-120v-720h720v720H120Zm60-500h600v-160H180v160Zm220 220h160v-160H400v160Zm0 220h160v-160H400v160ZM180-400h160v-160H180v160Zm440 0h160v-160H620v160ZM180-180h160v-160H180v160Zm440 0h160v-160H620v160Z\"/>\n",
       "  </svg>\n",
       "    </button>\n",
       "\n",
       "  <style>\n",
       "    .colab-df-container {\n",
       "      display:flex;\n",
       "      gap: 12px;\n",
       "    }\n",
       "\n",
       "    .colab-df-convert {\n",
       "      background-color: #E8F0FE;\n",
       "      border: none;\n",
       "      border-radius: 50%;\n",
       "      cursor: pointer;\n",
       "      display: none;\n",
       "      fill: #1967D2;\n",
       "      height: 32px;\n",
       "      padding: 0 0 0 0;\n",
       "      width: 32px;\n",
       "    }\n",
       "\n",
       "    .colab-df-convert:hover {\n",
       "      background-color: #E2EBFA;\n",
       "      box-shadow: 0px 1px 2px rgba(60, 64, 67, 0.3), 0px 1px 3px 1px rgba(60, 64, 67, 0.15);\n",
       "      fill: #174EA6;\n",
       "    }\n",
       "\n",
       "    .colab-df-buttons div {\n",
       "      margin-bottom: 4px;\n",
       "    }\n",
       "\n",
       "    [theme=dark] .colab-df-convert {\n",
       "      background-color: #3B4455;\n",
       "      fill: #D2E3FC;\n",
       "    }\n",
       "\n",
       "    [theme=dark] .colab-df-convert:hover {\n",
       "      background-color: #434B5C;\n",
       "      box-shadow: 0px 1px 3px 1px rgba(0, 0, 0, 0.15);\n",
       "      filter: drop-shadow(0px 1px 2px rgba(0, 0, 0, 0.3));\n",
       "      fill: #FFFFFF;\n",
       "    }\n",
       "  </style>\n",
       "\n",
       "    <script>\n",
       "      const buttonEl =\n",
       "        document.querySelector('#df-4f6e9a1a-ac21-41da-9e5f-36d6a880f9fc button.colab-df-convert');\n",
       "      buttonEl.style.display =\n",
       "        google.colab.kernel.accessAllowed ? 'block' : 'none';\n",
       "\n",
       "      async function convertToInteractive(key) {\n",
       "        const element = document.querySelector('#df-4f6e9a1a-ac21-41da-9e5f-36d6a880f9fc');\n",
       "        const dataTable =\n",
       "          await google.colab.kernel.invokeFunction('convertToInteractive',\n",
       "                                                    [key], {});\n",
       "        if (!dataTable) return;\n",
       "\n",
       "        const docLinkHtml = 'Like what you see? Visit the ' +\n",
       "          '<a target=\"_blank\" href=https://colab.research.google.com/notebooks/data_table.ipynb>data table notebook</a>'\n",
       "          + ' to learn more about interactive tables.';\n",
       "        element.innerHTML = '';\n",
       "        dataTable['output_type'] = 'display_data';\n",
       "        await google.colab.output.renderOutput(dataTable, element);\n",
       "        const docLink = document.createElement('div');\n",
       "        docLink.innerHTML = docLinkHtml;\n",
       "        element.appendChild(docLink);\n",
       "      }\n",
       "    </script>\n",
       "  </div>\n",
       "\n",
       "\n",
       "<div id=\"df-05747101-856f-43dc-843e-baa350a934bb\">\n",
       "  <button class=\"colab-df-quickchart\" onclick=\"quickchart('df-05747101-856f-43dc-843e-baa350a934bb')\"\n",
       "            title=\"Suggest charts\"\n",
       "            style=\"display:none;\">\n",
       "\n",
       "<svg xmlns=\"http://www.w3.org/2000/svg\" height=\"24px\"viewBox=\"0 0 24 24\"\n",
       "     width=\"24px\">\n",
       "    <g>\n",
       "        <path d=\"M19 3H5c-1.1 0-2 .9-2 2v14c0 1.1.9 2 2 2h14c1.1 0 2-.9 2-2V5c0-1.1-.9-2-2-2zM9 17H7v-7h2v7zm4 0h-2V7h2v10zm4 0h-2v-4h2v4z\"/>\n",
       "    </g>\n",
       "</svg>\n",
       "  </button>\n",
       "\n",
       "<style>\n",
       "  .colab-df-quickchart {\n",
       "      --bg-color: #E8F0FE;\n",
       "      --fill-color: #1967D2;\n",
       "      --hover-bg-color: #E2EBFA;\n",
       "      --hover-fill-color: #174EA6;\n",
       "      --disabled-fill-color: #AAA;\n",
       "      --disabled-bg-color: #DDD;\n",
       "  }\n",
       "\n",
       "  [theme=dark] .colab-df-quickchart {\n",
       "      --bg-color: #3B4455;\n",
       "      --fill-color: #D2E3FC;\n",
       "      --hover-bg-color: #434B5C;\n",
       "      --hover-fill-color: #FFFFFF;\n",
       "      --disabled-bg-color: #3B4455;\n",
       "      --disabled-fill-color: #666;\n",
       "  }\n",
       "\n",
       "  .colab-df-quickchart {\n",
       "    background-color: var(--bg-color);\n",
       "    border: none;\n",
       "    border-radius: 50%;\n",
       "    cursor: pointer;\n",
       "    display: none;\n",
       "    fill: var(--fill-color);\n",
       "    height: 32px;\n",
       "    padding: 0;\n",
       "    width: 32px;\n",
       "  }\n",
       "\n",
       "  .colab-df-quickchart:hover {\n",
       "    background-color: var(--hover-bg-color);\n",
       "    box-shadow: 0 1px 2px rgba(60, 64, 67, 0.3), 0 1px 3px 1px rgba(60, 64, 67, 0.15);\n",
       "    fill: var(--button-hover-fill-color);\n",
       "  }\n",
       "\n",
       "  .colab-df-quickchart-complete:disabled,\n",
       "  .colab-df-quickchart-complete:disabled:hover {\n",
       "    background-color: var(--disabled-bg-color);\n",
       "    fill: var(--disabled-fill-color);\n",
       "    box-shadow: none;\n",
       "  }\n",
       "\n",
       "  .colab-df-spinner {\n",
       "    border: 2px solid var(--fill-color);\n",
       "    border-color: transparent;\n",
       "    border-bottom-color: var(--fill-color);\n",
       "    animation:\n",
       "      spin 1s steps(1) infinite;\n",
       "  }\n",
       "\n",
       "  @keyframes spin {\n",
       "    0% {\n",
       "      border-color: transparent;\n",
       "      border-bottom-color: var(--fill-color);\n",
       "      border-left-color: var(--fill-color);\n",
       "    }\n",
       "    20% {\n",
       "      border-color: transparent;\n",
       "      border-left-color: var(--fill-color);\n",
       "      border-top-color: var(--fill-color);\n",
       "    }\n",
       "    30% {\n",
       "      border-color: transparent;\n",
       "      border-left-color: var(--fill-color);\n",
       "      border-top-color: var(--fill-color);\n",
       "      border-right-color: var(--fill-color);\n",
       "    }\n",
       "    40% {\n",
       "      border-color: transparent;\n",
       "      border-right-color: var(--fill-color);\n",
       "      border-top-color: var(--fill-color);\n",
       "    }\n",
       "    60% {\n",
       "      border-color: transparent;\n",
       "      border-right-color: var(--fill-color);\n",
       "    }\n",
       "    80% {\n",
       "      border-color: transparent;\n",
       "      border-right-color: var(--fill-color);\n",
       "      border-bottom-color: var(--fill-color);\n",
       "    }\n",
       "    90% {\n",
       "      border-color: transparent;\n",
       "      border-bottom-color: var(--fill-color);\n",
       "    }\n",
       "  }\n",
       "</style>\n",
       "\n",
       "  <script>\n",
       "    async function quickchart(key) {\n",
       "      const quickchartButtonEl =\n",
       "        document.querySelector('#' + key + ' button');\n",
       "      quickchartButtonEl.disabled = true;  // To prevent multiple clicks.\n",
       "      quickchartButtonEl.classList.add('colab-df-spinner');\n",
       "      try {\n",
       "        const charts = await google.colab.kernel.invokeFunction(\n",
       "            'suggestCharts', [key], {});\n",
       "      } catch (error) {\n",
       "        console.error('Error during call to suggestCharts:', error);\n",
       "      }\n",
       "      quickchartButtonEl.classList.remove('colab-df-spinner');\n",
       "      quickchartButtonEl.classList.add('colab-df-quickchart-complete');\n",
       "    }\n",
       "    (() => {\n",
       "      let quickchartButtonEl =\n",
       "        document.querySelector('#df-05747101-856f-43dc-843e-baa350a934bb button');\n",
       "      quickchartButtonEl.style.display =\n",
       "        google.colab.kernel.accessAllowed ? 'block' : 'none';\n",
       "    })();\n",
       "  </script>\n",
       "</div>\n",
       "\n",
       "    </div>\n",
       "  </div>\n"
      ],
      "text/plain": [
       "      TurnoutTimeSeconds boxcox_TurnoutTimeSeconds TravelTimeSeconds  \\\n",
       "count         1037713.00                1037713.00        1037713.00   \n",
       "mean               72.57                     11.65            245.51   \n",
       "std                38.32                      3.02            129.94   \n",
       "min                 1.00                      0.00              1.00   \n",
       "25%                51.00                     10.08            161.00   \n",
       "50%                69.00                     11.78            225.00   \n",
       "75%                88.00                     13.31            304.00   \n",
       "max              1192.00                     44.71           1181.00   \n",
       "\n",
       "      boxcox_TravelTimeSeconds TotalResponseTime boxcox_TotalResponseTime  \n",
       "count               1037713.00        1037713.00               1037713.00  \n",
       "mean                     29.07            318.07                    27.86  \n",
       "std                       8.49            131.89                     5.68  \n",
       "min                       0.00              2.00                     0.82  \n",
       "25%                      23.99            234.00                    24.46  \n",
       "50%                      28.79            298.00                    27.58  \n",
       "75%                      33.86            377.00                    30.97  \n",
       "max                      69.36           1200.00                    54.22  "
      ]
     },
     "execution_count": 7,
     "metadata": {},
     "output_type": "execute_result"
    }
   ],
   "source": [
    "# statistiques descriptives des variables de temps et de leur transformations Box-Cox\n",
    "# nb :.apply(lambda s: s.apply('{0:.2f}'.format)) permet d'afficher les valeurs arrondis à la décimale plutôt que d'avoir une notation scientifique\n",
    "dfim[['TurnoutTimeSeconds', 'boxcox_TurnoutTimeSeconds','TravelTimeSeconds', 'boxcox_TravelTimeSeconds', 'TotalResponseTime', 'boxcox_TotalResponseTime']].describe().apply(lambda s: s.apply('{0:.2f}'.format))"
   ]
  },
  {
   "cell_type": "markdown",
   "metadata": {
    "id": "w3xkZdvjN-fC"
   },
   "source": [
    "## <font color='blue'>3.b) Résumé analyse (notebook 2) </font>"
   ]
  },
  {
   "cell_type": "markdown",
   "metadata": {
    "id": "ejsFdiJyOGad"
   },
   "source": [
    "Suite aux analyses effectuées sur les variables explicatives connues *a priori*, nous incluerons dans le modèle\n",
    "- l'heure de l'incident, `HourOfCall`\n",
    "- l'arrondissement, `IncGeo_BoroughName` (le quartier, `IncGeo_WardName`,  pourra être étudié dans un second temps)\n",
    "- la caserne de départ, `DeployedFromStation_Name`\n",
    "- le type d'incident détaillé, `DetailedIncidentGroup` (après regroupement des catégories *False alarm Malicious* / *Good intent* dans une catégorie *Other*)\n",
    "- le type de propriété impacté dans l'incident, `PropertyCategory` (le type détaillé `HighPropertyType` pourra être étudié dans un second temps)\n",
    "- la distance\n",
    "</br></br>\n",
    "\n",
    "*Nota Bene* :\n",
    "</br>\n",
    "En plus des variables connues *a posteriori* (exactitude de l'adresse, délai, nombre d'appels et nombre de camions appelés sur l'incident), les variables suivantes de `df_2023` n'ont pas fait l'objet d'une analyse\n",
    "- les dates permettant le calcul du temps de trajet et de réponse : `DateAndTimeMobilised`, `DateAndTimeMobile` et `DateAndTimeArrived`\n",
    "- les variables ayant permis le calcul de la distance : `Latitude`, `Longitude`, `Easting_rounded`, `Northing_rounded`, `Lat_station` et `Long_station`\n",
    "- la date exacte de l'incident (`DateOfCall`). Nous avons étudié des variables dérivées comme le jour de la semaine ou le mois et nous avons supposé que l'année n'avait pas d'impact sur le temps de réponse (hypothèse soutenue par nos travaux dans la section 3)\n",
    "- les variables `IncidentStationGround`, `PumpCount`, `ResourceMobilisationId` et `Resource_Code`. Nous avons un doute sur leur définition et sommes en attente d'un retour à ce sujet (note du 15/11/2024). Si notre compréhension est correct, nous ne pensons pas qu'elles puissent avoir un impact sur le temps de réponse.\n",
    "- la variable `PropertyType` dont `HighPropertyType` est un regroupement\n",
    "\n"
   ]
  },
  {
   "cell_type": "markdown",
   "metadata": {
    "id": "YesWngwsi-3l"
   },
   "source": [
    "## <font color='blue'>3.c) Création jeux de données (avant split) </font>"
   ]
  },
  {
   "cell_type": "markdown",
   "metadata": {
    "id": "i221slJMiJPH"
   },
   "source": [
    "Nous créons 2 jeux de données pour la modélisation.\n",
    "\n",
    "Dans le premier nous incluons\n",
    "- les variables explicatives sélectionnées dont `IncGeo_WardName` et `HighPropertyType` mais après la modification de `DetailedIncidentGroup`\n",
    "- les trois variables de temps sur l'échelle originale et la transformation Box-Cox du temps de réponse total (variable à prédire)\n",
    "- certaines variables qui nous semble interessant de conserver pour des travaux futurs comme la latitude et la longitude par exemple\n",
    "\n",
    "Dans le second, nous sélectionnons uniquement la variable à prédire (soit la transformation Box-Cox du temps de réponse total) et les variables explicatives retenues pour la première étape de modélisation (sélection du type de modèles); les variables `IncGeo_WardName` et `HighPropertyType` ne sont donc pas dans ce jeu de données."
   ]
  },
  {
   "cell_type": "markdown",
   "metadata": {
    "id": "RmwLDl5tlRdQ"
   },
   "source": [
    "### Modification de DetailedIncidentGroup\n",
    "- on conserve le type *AFA* (alarme incendie automatique)\n",
    "- on regroupe *False alarm - Good intent* et  *False alarm - Malicious* avec *No action (not false alarm)* en renommant *Other* car dans les 3 cas, il n'y a pas eu d'action à mener\n",
    "- on regroupe les deux types de *Medical Incident* en une catégorie\n",
    "- on renomme *Late Call* par *Other Fire* (nom plus \"parlant\")\n",
    "\n",
    "Nota Bene : *RTC* signifie *Road Traffic Collision*"
   ]
  },
  {
   "cell_type": "code",
   "execution_count": null,
   "metadata": {
    "colab": {
     "base_uri": "https://localhost:8080/",
     "height": 930
    },
    "executionInfo": {
     "elapsed": 864,
     "status": "ok",
     "timestamp": 1734869503841,
     "user": {
      "displayName": "AnChriHao AnChriHao",
      "userId": "01629242505074473503"
     },
     "user_tz": -60
    },
    "id": "RTi63b5MHSn5",
    "outputId": "0b450433-78fc-4927-bbdf-440c13ed400b"
   },
   "outputs": [
    {
     "data": {
      "text/html": [
       "<div>\n",
       "<style scoped>\n",
       "    .dataframe tbody tr th:only-of-type {\n",
       "        vertical-align: middle;\n",
       "    }\n",
       "\n",
       "    .dataframe tbody tr th {\n",
       "        vertical-align: top;\n",
       "    }\n",
       "\n",
       "    .dataframe thead th {\n",
       "        text-align: right;\n",
       "    }\n",
       "</style>\n",
       "<table border=\"1\" class=\"dataframe\">\n",
       "  <thead>\n",
       "    <tr style=\"text-align: right;\">\n",
       "      <th></th>\n",
       "      <th>proportion</th>\n",
       "    </tr>\n",
       "    <tr>\n",
       "      <th>DetailedIncidentGroup</th>\n",
       "      <th></th>\n",
       "    </tr>\n",
       "  </thead>\n",
       "  <tbody>\n",
       "    <tr>\n",
       "      <th>AFA</th>\n",
       "      <td>0.401646</td>\n",
       "    </tr>\n",
       "    <tr>\n",
       "      <th>Other</th>\n",
       "      <td>0.144326</td>\n",
       "    </tr>\n",
       "    <tr>\n",
       "      <th>Primary Fire</th>\n",
       "      <td>0.087047</td>\n",
       "    </tr>\n",
       "    <tr>\n",
       "      <th>Secondary Fire</th>\n",
       "      <td>0.086429</td>\n",
       "    </tr>\n",
       "    <tr>\n",
       "      <th>Effecting entry/exit</th>\n",
       "      <td>0.080042</td>\n",
       "    </tr>\n",
       "    <tr>\n",
       "      <th>Flooding</th>\n",
       "      <td>0.067846</td>\n",
       "    </tr>\n",
       "    <tr>\n",
       "      <th>RTC</th>\n",
       "      <td>0.037658</td>\n",
       "    </tr>\n",
       "    <tr>\n",
       "      <th>Lift Release</th>\n",
       "      <td>0.016336</td>\n",
       "    </tr>\n",
       "    <tr>\n",
       "      <th>Assist other agencies</th>\n",
       "      <td>0.016259</td>\n",
       "    </tr>\n",
       "    <tr>\n",
       "      <th>Making Safe (not RTC)</th>\n",
       "      <td>0.010310</td>\n",
       "    </tr>\n",
       "    <tr>\n",
       "      <th>Spills and Leaks (not RTC)</th>\n",
       "      <td>0.008050</td>\n",
       "    </tr>\n",
       "    <tr>\n",
       "      <th>Medical Incident</th>\n",
       "      <td>0.007838</td>\n",
       "    </tr>\n",
       "    <tr>\n",
       "      <th>Animal assistance incidents</th>\n",
       "      <td>0.007336</td>\n",
       "    </tr>\n",
       "    <tr>\n",
       "      <th>Hazardous Materials incident</th>\n",
       "      <td>0.007024</td>\n",
       "    </tr>\n",
       "    <tr>\n",
       "      <th>Advice Only</th>\n",
       "      <td>0.006130</td>\n",
       "    </tr>\n",
       "    <tr>\n",
       "      <th>Other rescue/release of persons</th>\n",
       "      <td>0.003806</td>\n",
       "    </tr>\n",
       "    <tr>\n",
       "      <th>Removal of objects from people</th>\n",
       "      <td>0.003742</td>\n",
       "    </tr>\n",
       "    <tr>\n",
       "      <th>Other Transport incident</th>\n",
       "      <td>0.002742</td>\n",
       "    </tr>\n",
       "    <tr>\n",
       "      <th>Suicide/attempts</th>\n",
       "      <td>0.002211</td>\n",
       "    </tr>\n",
       "    <tr>\n",
       "      <th>Evacuation (no fire)</th>\n",
       "      <td>0.001964</td>\n",
       "    </tr>\n",
       "    <tr>\n",
       "      <th>Stand By</th>\n",
       "      <td>0.000519</td>\n",
       "    </tr>\n",
       "    <tr>\n",
       "      <th>Rescue or evacuation from water</th>\n",
       "      <td>0.000418</td>\n",
       "    </tr>\n",
       "    <tr>\n",
       "      <th>Chimney Fire</th>\n",
       "      <td>0.000236</td>\n",
       "    </tr>\n",
       "    <tr>\n",
       "      <th>Other Fire</th>\n",
       "      <td>0.000066</td>\n",
       "    </tr>\n",
       "    <tr>\n",
       "      <th>Water provision</th>\n",
       "      <td>0.000010</td>\n",
       "    </tr>\n",
       "    <tr>\n",
       "      <th>Use of Special Operations Room</th>\n",
       "      <td>0.000008</td>\n",
       "    </tr>\n",
       "  </tbody>\n",
       "</table>\n",
       "</div><br><label><b>dtype:</b> float64</label>"
      ],
      "text/plain": [
       "DetailedIncidentGroup\n",
       "AFA                                0.401646\n",
       "Other                              0.144326\n",
       "Primary Fire                       0.087047\n",
       "Secondary Fire                     0.086429\n",
       "Effecting entry/exit               0.080042\n",
       "Flooding                           0.067846\n",
       "RTC                                0.037658\n",
       "Lift Release                       0.016336\n",
       "Assist other agencies              0.016259\n",
       "Making Safe (not RTC)              0.010310\n",
       "Spills and Leaks (not RTC)         0.008050\n",
       "Medical Incident                   0.007838\n",
       "Animal assistance incidents        0.007336\n",
       "Hazardous Materials incident       0.007024\n",
       "Advice Only                        0.006130\n",
       "Other rescue/release of persons    0.003806\n",
       "Removal of objects from people     0.003742\n",
       "Other Transport incident           0.002742\n",
       "Suicide/attempts                   0.002211\n",
       "Evacuation (no fire)               0.001964\n",
       "Stand By                           0.000519\n",
       "Rescue or evacuation from water    0.000418\n",
       "Chimney Fire                       0.000236\n",
       "Other Fire                         0.000066\n",
       "Water provision                    0.000010\n",
       "Use of Special Operations Room     0.000008\n",
       "Name: proportion, dtype: float64"
      ]
     },
     "execution_count": 8,
     "metadata": {},
     "output_type": "execute_result"
    }
   ],
   "source": [
    "dfim.loc[ (dfim.DetailedIncidentGroup=='False alarm - Good intent') | (dfim.DetailedIncidentGroup=='False alarm - Malicious') | (dfim.DetailedIncidentGroup=='No action (not false alarm)'),'DetailedIncidentGroup']='Other'\n",
    "\n",
    "dfim.loc[ (dfim.DetailedIncidentGroup=='Medical Incident - Co-responder'),'DetailedIncidentGroup']='Medical Incident'\n",
    "dfim.loc[ (dfim.DetailedIncidentGroup=='Late Call'),'DetailedIncidentGroup']='Other Fire'\n",
    "\n",
    "\n",
    "# on vérifie la prise en compte des modifications\n",
    "dfim.DetailedIncidentGroup.value_counts(normalize=True)"
   ]
  },
  {
   "cell_type": "markdown",
   "metadata": {
    "id": "b47GKPZcl3tC"
   },
   "source": [
    "### Catégorisation du temps de réponse"
   ]
  },
  {
   "cell_type": "markdown",
   "metadata": {
    "id": "laAA3itTmCUR"
   },
   "source": [
    "Au cours de notre modélisation, nous souhaitons pouvoir tester des algorithmes de classification. Nous partons de l'hypothèse qu'être capable de prédire un intervalle de temps de réponse pourrait être suffisant. On constate que 98% des temps de réponse sont entre 1 minutes 19 secondes et 13 minutes. Nous avons choisi de créer des catégories de temps correspondant à un intervalle allant de 30 secondes à 6 minutes 30 pour prendre en compte la distribution et avoir au minimum 5% des données dans une catégorie (= un intervalle de temps)."
   ]
  },
  {
   "cell_type": "code",
   "execution_count": null,
   "metadata": {
    "colab": {
     "base_uri": "https://localhost:8080/",
     "height": 554
    },
    "executionInfo": {
     "elapsed": 237,
     "status": "ok",
     "timestamp": 1734869509482,
     "user": {
      "displayName": "AnChriHao AnChriHao",
      "userId": "01629242505074473503"
     },
     "user_tz": -60
    },
    "id": "3jUNQpKDl6du",
    "outputId": "864c89ba-276f-44b6-cdeb-6311fda8ff5d"
   },
   "outputs": [
    {
     "data": {
      "text/html": [
       "<div>\n",
       "<style scoped>\n",
       "    .dataframe tbody tr th:only-of-type {\n",
       "        vertical-align: middle;\n",
       "    }\n",
       "\n",
       "    .dataframe tbody tr th {\n",
       "        vertical-align: top;\n",
       "    }\n",
       "\n",
       "    .dataframe thead th {\n",
       "        text-align: right;\n",
       "    }\n",
       "</style>\n",
       "<table border=\"1\" class=\"dataframe\">\n",
       "  <thead>\n",
       "    <tr style=\"text-align: right;\">\n",
       "      <th></th>\n",
       "      <th>TotalResponseTime</th>\n",
       "    </tr>\n",
       "  </thead>\n",
       "  <tbody>\n",
       "    <tr>\n",
       "      <th>0.010</th>\n",
       "      <td>79.0</td>\n",
       "    </tr>\n",
       "    <tr>\n",
       "      <th>0.025</th>\n",
       "      <td>125.0</td>\n",
       "    </tr>\n",
       "    <tr>\n",
       "      <th>0.050</th>\n",
       "      <td>152.0</td>\n",
       "    </tr>\n",
       "    <tr>\n",
       "      <th>0.100</th>\n",
       "      <td>182.0</td>\n",
       "    </tr>\n",
       "    <tr>\n",
       "      <th>0.200</th>\n",
       "      <td>219.0</td>\n",
       "    </tr>\n",
       "    <tr>\n",
       "      <th>0.300</th>\n",
       "      <td>247.0</td>\n",
       "    </tr>\n",
       "    <tr>\n",
       "      <th>0.400</th>\n",
       "      <td>273.0</td>\n",
       "    </tr>\n",
       "    <tr>\n",
       "      <th>0.500</th>\n",
       "      <td>298.0</td>\n",
       "    </tr>\n",
       "    <tr>\n",
       "      <th>0.600</th>\n",
       "      <td>325.0</td>\n",
       "    </tr>\n",
       "    <tr>\n",
       "      <th>0.700</th>\n",
       "      <td>357.0</td>\n",
       "    </tr>\n",
       "    <tr>\n",
       "      <th>0.800</th>\n",
       "      <td>401.0</td>\n",
       "    </tr>\n",
       "    <tr>\n",
       "      <th>0.900</th>\n",
       "      <td>474.0</td>\n",
       "    </tr>\n",
       "    <tr>\n",
       "      <th>0.950</th>\n",
       "      <td>552.0</td>\n",
       "    </tr>\n",
       "    <tr>\n",
       "      <th>0.975</th>\n",
       "      <td>642.0</td>\n",
       "    </tr>\n",
       "    <tr>\n",
       "      <th>0.990</th>\n",
       "      <td>780.0</td>\n",
       "    </tr>\n",
       "  </tbody>\n",
       "</table>\n",
       "</div><br><label><b>dtype:</b> float64</label>"
      ],
      "text/plain": [
       "0.010     79.0\n",
       "0.025    125.0\n",
       "0.050    152.0\n",
       "0.100    182.0\n",
       "0.200    219.0\n",
       "0.300    247.0\n",
       "0.400    273.0\n",
       "0.500    298.0\n",
       "0.600    325.0\n",
       "0.700    357.0\n",
       "0.800    401.0\n",
       "0.900    474.0\n",
       "0.950    552.0\n",
       "0.975    642.0\n",
       "0.990    780.0\n",
       "Name: TotalResponseTime, dtype: float64"
      ]
     },
     "execution_count": 9,
     "metadata": {},
     "output_type": "execute_result"
    }
   ],
   "source": [
    "dfim['TotalResponseTime'].quantile([0.01, 0.025, 0.05, 0.1, 0.2, 0.3, 0.4, 0.5, 0.6, 0.7, 0.8, 0.9, 0.95, 0.975, 0.99])"
   ]
  },
  {
   "cell_type": "markdown",
   "metadata": {
    "id": "2tk-ym1HoDLP"
   },
   "source": [
    "Chaque categorie de `ResponseTimeCategory` représente de 4,8 à 11,8% des données. Nous avons choisi les intervalles de temps suivant :\n",
    "<br> <br>\n",
    "\n",
    "<table>\n",
    "<tr>\n",
    "<th>Categorie</th>\n",
    "<th>Intervalle</th>\n",
    "</tr>\n",
    "<tr>\n",
    "<td>0</td>\n",
    "<td> <= 2 minutes 30 secondes </td>\n",
    "</tr>\n",
    "<tr>\n",
    "<td>1</td>\n",
    "<td>] 2,5 min ; 3 min]</td>\n",
    "</tr>\n",
    "<tr>\n",
    "<td>2</td>\n",
    "<td>] 3 min; 3,5 min] </td>\n",
    "</tr>\n",
    "<tr>\n",
    "<td>3</td>\n",
    "<td>] 3,5 min; 4 min ]</td>\n",
    "</tr>\n",
    "<tr>\n",
    "<td>4</td>\n",
    "<td>] 4 min; 4,5 min]</td>\n",
    "</tr>\n",
    "<tr>\n",
    "<td>5</td>\n",
    "<td> ] 4,5 min; 5 min ]</td>\n",
    "</tr>\n",
    "\n",
    "<tr>\n",
    "<td>6</td>\n",
    "<td> ] 5 min; 5,5 min ]</td>\n",
    "</tr>\n",
    "\n",
    "<tr>\n",
    "<td>7</td>\n",
    "<td> ] 5,5 min; 6 min ]</td>\n",
    "</tr>\n",
    "\n",
    "<tr>\n",
    "<td>8</td>\n",
    "<td> ] 6 min; 6,5 min ]</td>\n",
    "</tr>\n",
    "\n",
    "<tr>\n",
    "<td>9</td>\n",
    "<td> ] 6,5 min; 7,5 min ]</td>\n",
    "</tr>\n",
    "\n",
    "<tr>\n",
    "<td>10</td>\n",
    "<td> ] 7,5 min; 9 min ]</td>\n",
    "</tr>\n",
    "\n",
    "<tr>\n",
    "<td>11</td>\n",
    "<td> > 9 minutes </td>\n",
    "</tr>\n",
    "\n",
    "</table>"
   ]
  },
  {
   "cell_type": "code",
   "execution_count": null,
   "metadata": {
    "id": "OdwhG1a3l4HN"
   },
   "outputs": [],
   "source": [
    "dfim['ResponseTimeCategory']=0\n",
    "inf=[150, 180, 210, 240, 270, 300, 330, 360, 390, 450, 540]\n",
    "sup=[180, 210, 240, 270, 300, 330, 360, 390, 450, 540, 630]\n",
    "\n",
    "j=0\n",
    "for i in range(0,11):\n",
    "  j=j+1\n",
    "  dfim.loc[(dfim.TotalResponseTime>inf[i]) & (dfim.TotalResponseTime<=sup[i]), 'ResponseTimeCategory']=j\n",
    "\n",
    "dfim.loc[(dfim.TotalResponseTime>=630), 'ResponseTimeCategory']=11\n"
   ]
  },
  {
   "cell_type": "code",
   "execution_count": null,
   "metadata": {
    "colab": {
     "base_uri": "https://localhost:8080/",
     "height": 491
    },
    "executionInfo": {
     "elapsed": 283,
     "status": "ok",
     "timestamp": 1734869520776,
     "user": {
      "displayName": "AnChriHao AnChriHao",
      "userId": "01629242505074473503"
     },
     "user_tz": -60
    },
    "id": "Ve2RpgiN1r_p",
    "outputId": "fc1363fe-790e-4f18-fcdc-61aea510e36a"
   },
   "outputs": [
    {
     "data": {
      "text/html": [
       "<div>\n",
       "<style scoped>\n",
       "    .dataframe tbody tr th:only-of-type {\n",
       "        vertical-align: middle;\n",
       "    }\n",
       "\n",
       "    .dataframe tbody tr th {\n",
       "        vertical-align: top;\n",
       "    }\n",
       "\n",
       "    .dataframe thead th {\n",
       "        text-align: right;\n",
       "    }\n",
       "</style>\n",
       "<table border=\"1\" class=\"dataframe\">\n",
       "  <thead>\n",
       "    <tr style=\"text-align: right;\">\n",
       "      <th></th>\n",
       "      <th>proportion</th>\n",
       "    </tr>\n",
       "    <tr>\n",
       "      <th>ResponseTimeCategory</th>\n",
       "      <th></th>\n",
       "    </tr>\n",
       "  </thead>\n",
       "  <tbody>\n",
       "    <tr>\n",
       "      <th>5</th>\n",
       "      <td>0.118373</td>\n",
       "    </tr>\n",
       "    <tr>\n",
       "      <th>4</th>\n",
       "      <td>0.116337</td>\n",
       "    </tr>\n",
       "    <tr>\n",
       "      <th>6</th>\n",
       "      <td>0.107992</td>\n",
       "    </tr>\n",
       "    <tr>\n",
       "      <th>3</th>\n",
       "      <td>0.101335</td>\n",
       "    </tr>\n",
       "    <tr>\n",
       "      <th>9</th>\n",
       "      <td>0.095471</td>\n",
       "    </tr>\n",
       "    <tr>\n",
       "      <th>7</th>\n",
       "      <td>0.091508</td>\n",
       "    </tr>\n",
       "    <tr>\n",
       "      <th>2</th>\n",
       "      <td>0.076452</td>\n",
       "    </tr>\n",
       "    <tr>\n",
       "      <th>8</th>\n",
       "      <td>0.071000</td>\n",
       "    </tr>\n",
       "    <tr>\n",
       "      <th>10</th>\n",
       "      <td>0.069274</td>\n",
       "    </tr>\n",
       "    <tr>\n",
       "      <th>11</th>\n",
       "      <td>0.055254</td>\n",
       "    </tr>\n",
       "    <tr>\n",
       "      <th>1</th>\n",
       "      <td>0.049024</td>\n",
       "    </tr>\n",
       "    <tr>\n",
       "      <th>0</th>\n",
       "      <td>0.047979</td>\n",
       "    </tr>\n",
       "  </tbody>\n",
       "</table>\n",
       "</div><br><label><b>dtype:</b> float64</label>"
      ],
      "text/plain": [
       "ResponseTimeCategory\n",
       "5     0.118373\n",
       "4     0.116337\n",
       "6     0.107992\n",
       "3     0.101335\n",
       "9     0.095471\n",
       "7     0.091508\n",
       "2     0.076452\n",
       "8     0.071000\n",
       "10    0.069274\n",
       "11    0.055254\n",
       "1     0.049024\n",
       "0     0.047979\n",
       "Name: proportion, dtype: float64"
      ]
     },
     "execution_count": 11,
     "metadata": {},
     "output_type": "execute_result"
    }
   ],
   "source": [
    "dfim.ResponseTimeCategory.value_counts(normalize=True)"
   ]
  },
  {
   "cell_type": "markdown",
   "metadata": {
    "id": "5FLCsg0imlJj"
   },
   "source": [
    "### Création d'un premier jeu de données \"clean\"\n",
    "On supprime les variables\n",
    "- connues *a posteriori*\n",
    "- dont la définition n'est pas assez précise\n",
    "- de dates permettant le calcul du temps de trajet et de réponse\n",
    "\n",
    "Ce jeu de données a 1 037 713 lignes et 28 colonnes. On renomme certaines variables."
   ]
  },
  {
   "cell_type": "code",
   "execution_count": null,
   "metadata": {
    "id": "221jnjV_lI3R"
   },
   "outputs": [],
   "source": [
    "col=['IncidentNumber', 'TurnoutTimeSeconds', 'TravelTimeSeconds', 'TotalResponseTime', 'boxcox_TotalResponseTime', 'ResponseTimeCategory',\n",
    "       'DateOfCall', 'CalYear', 'TimeOfCall', 'HourOfCall', 'DayOfWeek', 'Month',\n",
    "       'IncidentGroup', 'DetailedIncidentGroup',\n",
    "       'PropertyCategory', 'HighPropertyType',\n",
    "       'IncGeo_BoroughCode','IncGeo_BoroughName', 'IncGeo_WardCode', 'IncGeo_WardName',\n",
    "       'DeployedFromStation_Code', 'DeployedFromStation_Name',\n",
    "       'distance', 'Latitude', 'Longitude', 'IncGeo_Rounded','Lat_station', 'Long_station',\n",
    "    ]\n",
    "\n",
    "df_clean=dfim[col].copy(deep=True)\n",
    "\n",
    "# on renomme certaines colonnes\n",
    "\n",
    "df_clean.rename(columns={'TurnoutTimeSeconds': 'TurnoutTime',\n",
    "                             'TravelTimeSeconds' : 'TravelTime',\n",
    "                             'boxcox_TotalResponseTime' : 'TotalResponseTime_BC',\n",
    "                             'IncGeo_BoroughCode' : 'BoroughCode',\n",
    "                             'IncGeo_BoroughName' : 'BoroughName',\n",
    "                             'IncGeo_WardCode' : 'WardCode',\n",
    "                             'IncGeo_WardName' : 'WardName',\n",
    "                             'DeployedFromStation_Code' : 'Station_Code',\n",
    "                             'DeployedFromStation_Name' : 'Station_Name',\n",
    "                              'DetailedIncidentGroup' : 'Incident_Type'\n",
    "                            }, inplace=True)"
   ]
  },
  {
   "cell_type": "code",
   "execution_count": null,
   "metadata": {
    "colab": {
     "base_uri": "https://localhost:8080/"
    },
    "executionInfo": {
     "elapsed": 3,
     "status": "ok",
     "timestamp": 1734869533820,
     "user": {
      "displayName": "AnChriHao AnChriHao",
      "userId": "01629242505074473503"
     },
     "user_tz": -60
    },
    "id": "LucedM5qqO_O",
    "outputId": "3e91fcbf-34f1-415b-a001-1ff1594bd664"
   },
   "outputs": [
    {
     "data": {
      "text/plain": [
       "(1037713, 28)"
      ]
     },
     "execution_count": 13,
     "metadata": {},
     "output_type": "execute_result"
    }
   ],
   "source": [
    "df_clean.shape"
   ]
  },
  {
   "cell_type": "markdown",
   "metadata": {
    "id": "sDMqE8rhi-3l"
   },
   "source": [
    "Enregistrement sur Google Colab"
   ]
  },
  {
   "cell_type": "code",
   "execution_count": null,
   "metadata": {
    "id": "tQiWmIwoo-wP"
   },
   "outputs": [],
   "source": [
    "df_clean.to_csv('/content/gdrive/My Drive/1_Rendu/FinalDatasets/Complete/CleanDataset.csv', index=False , encoding='utf-8')"
   ]
  },
  {
   "cell_type": "markdown",
   "metadata": {
    "id": "w_GBh1cho-4x"
   },
   "source": [
    "Enregistrement en local"
   ]
  },
  {
   "cell_type": "code",
   "execution_count": null,
   "metadata": {
    "id": "ry2oxvyZo_As"
   },
   "outputs": [],
   "source": [
    "df_clean.to_csv('../Data/Datapreprocessing/Complete/CompleteDataset.csv', index=False , encoding='utf-8')"
   ]
  },
  {
   "cell_type": "markdown",
   "metadata": {
    "id": "ALB0uXcwpYcV"
   },
   "source": [
    "Lecture sur Google Colab"
   ]
  },
  {
   "cell_type": "code",
   "execution_count": null,
   "metadata": {
    "id": "0Ytw94hCpYlY"
   },
   "outputs": [],
   "source": [
    "df_clean = pd.read_csv('/content/gdrive/My Drive/1_Rendu/FinalDatasets/Complete/CleanDataset.csv', low_memory=False)\n",
    "\n",
    "# apres le chargement, il faut modifier le type des dates\n",
    "df_clean.DateOfCall=pd.to_datetime(df_clean.DateOfCall)"
   ]
  },
  {
   "cell_type": "markdown",
   "metadata": {
    "id": "-pgvY6UKpo4i"
   },
   "source": [
    "Lecture en local"
   ]
  },
  {
   "cell_type": "code",
   "execution_count": null,
   "metadata": {},
   "outputs": [],
   "source": [
    "df_clean = pd.read_csv('../Data/Datapreprocessing/Complete/CleanDataset.csv',low_memory=False)\n",
    "\n",
    "# apres le chargement, il faut modifier le type des dates\n",
    "df_clean.DateOfCall=pd.to_datetime(df_clean.DateOfCall)"
   ]
  },
  {
   "cell_type": "markdown",
   "metadata": {
    "id": "fU-bIWUjp40F"
   },
   "source": [
    "### Création d'un second jeu de données \"minimal\" pour la modélisation\n",
    "- On supprime les variables qui ne seront pas utilisées dans la première étape de modélisation (choix du type de modèle) sauf `CalYear` car on va utiliser cette variable pour créer les datasets d'entraînement / validation / test et `IncidentNumber` pour pouvoir faire le lien avec le dataset complet.\n",
    "- on binarise les variables catégorielles nominales\n",
    "- on crée 2 variables binaires pour les heures : `H26` qui vaut 1 entre 2 et 6 heures et 0 sinon et `H1117` qui vaut 1 entre 11 et 17 heures et 0 sinon.\n",
    "\n",
    "\n",
    "*Nota Bene* : à ce stade, on conserve les 2 variables explicatives possibles `TotalResponseTime_BC` et `ResponseTimeCategory`\n",
    "\n",
    "Ce jeu de données a 1 037 713 lignes et 177 colonnes (après la suppression de `HourOfCall`)"
   ]
  },
  {
   "cell_type": "code",
   "execution_count": null,
   "metadata": {
    "id": "cteOZXhgqhUL"
   },
   "outputs": [],
   "source": [
    "# selection des colonnes\n",
    "col=[ 'IncidentNumber', 'TotalResponseTime_BC', 'ResponseTimeCategory', 'CalYear',\n",
    "       'HourOfCall',\n",
    "       'Incident_Type', 'PropertyCategory',\n",
    "       'BoroughCode',\n",
    "       'Station_Code', 'distance']\n",
    "\n",
    "df_model=df_clean[col].copy(deep=True)\n",
    "\n",
    "\n",
    "# Création d'une variable qualitative de l'heure d'appel\n",
    "df_model['HCat']='H'\n",
    "df_model.loc[(df_model.HourOfCall>=2) & (df_model.HourOfCall<=6),'HCat']='H26'\n",
    "df_model.loc[(df_model.HourOfCall>=11) & (df_model.HourOfCall<=17),'HCat']='H1117'\n",
    "\n",
    "# binarisation\n",
    "#df_model=pd.get_dummies(data=df_model, columns=['Incident_Type', 'PropertyCategory', 'BoroughCode','Station_Code'], prefix=['IncTyp', 'PropCat','Borough', 'Station'], prefix_sep='_')\n"
   ]
  },
  {
   "cell_type": "code",
   "execution_count": null,
   "metadata": {
    "colab": {
     "base_uri": "https://localhost:8080/"
    },
    "executionInfo": {
     "elapsed": 440,
     "status": "ok",
     "timestamp": 1734870037342,
     "user": {
      "displayName": "AnChriHao AnChriHao",
      "userId": "01629242505074473503"
     },
     "user_tz": -60
    },
    "id": "_6tOUTyasr4j",
    "outputId": "251494a5-0357-4bd7-b060-25895dcc9226"
   },
   "outputs": [
    {
     "data": {
      "text/plain": [
       "(1037713, 11)"
      ]
     },
     "execution_count": 42,
     "metadata": {},
     "output_type": "execute_result"
    }
   ],
   "source": [
    "df_model.shape"
   ]
  },
  {
   "cell_type": "code",
   "execution_count": null,
   "metadata": {
    "colab": {
     "base_uri": "https://localhost:8080/"
    },
    "executionInfo": {
     "elapsed": 222,
     "status": "ok",
     "timestamp": 1734870042437,
     "user": {
      "displayName": "AnChriHao AnChriHao",
      "userId": "01629242505074473503"
     },
     "user_tz": -60
    },
    "id": "chEkRbhWMuqQ",
    "outputId": "6ece9129-f6df-4948-d1c2-58b7e14bb763"
   },
   "outputs": [
    {
     "data": {
      "text/plain": [
       "(1037713, 10)"
      ]
     },
     "execution_count": 43,
     "metadata": {},
     "output_type": "execute_result"
    }
   ],
   "source": [
    "# on supprime la colonne avec les heures\n",
    "df_model.drop(columns=['HourOfCall'], inplace=True)\n",
    "\n",
    "df_model.shape"
   ]
  },
  {
   "cell_type": "markdown",
   "metadata": {
    "id": "OAwrxFi2uUaC"
   },
   "source": [
    "Enregistrement sur Google Colab"
   ]
  },
  {
   "cell_type": "code",
   "execution_count": null,
   "metadata": {
    "id": "QmQqNK_-uUjQ"
   },
   "outputs": [],
   "source": [
    "df_model.to_csv('/content/gdrive/My Drive/1_Rendu/FinalDatasets/Complete/ModelingDataset_nobin.csv', index=False , encoding='utf-8')"
   ]
  },
  {
   "cell_type": "markdown",
   "metadata": {
    "id": "kVGpiij_uUrZ"
   },
   "source": [
    "Enregistrement en local"
   ]
  },
  {
   "cell_type": "code",
   "execution_count": null,
   "metadata": {
    "id": "wN7K3RyIuU0Z"
   },
   "outputs": [],
   "source": [
    "df_model.to_csv('../Data/Datapreprocessing/Complete/ModelingDataset_nobin.csv', index=False , encoding='utf-8')"
   ]
  },
  {
   "cell_type": "markdown",
   "metadata": {
    "id": "WTihhvHpuU9g"
   },
   "source": [
    "Lecture sur Google Colab"
   ]
  },
  {
   "cell_type": "code",
   "execution_count": 5,
   "metadata": {
    "executionInfo": {
     "elapsed": 2921,
     "status": "ok",
     "timestamp": 1734963327428,
     "user": {
      "displayName": "AnChriHao AnChriHao",
      "userId": "01629242505074473503"
     },
     "user_tz": -60
    },
    "id": "333-v_kLuVGU"
   },
   "outputs": [],
   "source": [
    "df_model = pd.read_csv('/content/gdrive/My Drive/1_Rendu/FinalDatasets/Complete/ModelingDataset_nobin.csv', low_memory=False)\n",
    "\n"
   ]
  },
  {
   "cell_type": "markdown",
   "metadata": {
    "id": "jz-QUBaWuVO_"
   },
   "source": [
    "Lecture en local"
   ]
  },
  {
   "cell_type": "code",
   "execution_count": 45,
   "metadata": {
    "id": "zFkbay5tuVY5"
   },
   "outputs": [],
   "source": [
    "df_model = pd.read_csv('../Data/Datapreprocessing/Complete/ModelingDataset_nobin.csv', low_memory=False)\n",
    "\n"
   ]
  },
  {
   "cell_type": "markdown",
   "metadata": {
    "id": "onjeVfu5zrzv"
   },
   "source": [
    "## <font color='blue'>3.d) réduction à l'aide d'une mca </font>"
   ]
  },
  {
   "cell_type": "markdown",
   "metadata": {
    "id": "dA30w2-B1UPA"
   },
   "source": [
    "**Présentation** une Analyse en Correspondance Multiple (ACM) est une méthode statistique qui permet d'explorer et de visualiser des données qualitatives.\n",
    "\n",
    "**Objectifs :** Réduire la complexité : Elle transforme un tableau en un tableau de donnée moins grans tout en conservant un maximum d'information.\n",
    "\n",
    "L'ACM est accéssible directement en Python à l'aide du package **fanalysis** (lien pour explication : https://github.com/OlivierGarciaDev/fanalysis/blob/master/doc/mca_tutorial.ipynb).\n"
   ]
  },
  {
   "cell_type": "markdown",
   "metadata": {
    "id": "Np8Ywii31Xxv"
   },
   "source": [
    "Pour réduire la dimension de notre DataFrame nous fonctionnerons de la manière suivante :\n",
    "    - Création de la MCA sur tout le jeu de données réduit aux variables qualitatives.\n",
    "    - Recherche du nombre d'axe permettant de conserver 95% de l'information.\n",
    "    - Construction d'une nouvelle MCA avec le nombre d'axe fixé au nombre trouvé précédement.\n",
    "    - Entrainement su jeu de données sur la nouvelle MCA\n",
    "    - Jointure avec la colonne quantitative 'distance' et les colonnes cibles 'TotalResponseTime_BC','ResponseTimeCategory'\n",
    "\n",
    "La fonction renvoi aussi le transformateur mca, pour réentrainer des données au besoin."
   ]
  },
  {
   "cell_type": "code",
   "execution_count": 46,
   "metadata": {
    "colab": {
     "base_uri": "https://localhost:8080/"
    },
    "executionInfo": {
     "elapsed": 186,
     "status": "ok",
     "timestamp": 1734963331898,
     "user": {
      "displayName": "AnChriHao AnChriHao",
      "userId": "01629242505074473503"
     },
     "user_tz": -60
    },
    "id": "F750pXZ921pB",
    "outputId": "5b9b8017-54a1-464b-ee70-4a9b342a6538"
   },
   "outputs": [
    {
     "data": {
      "text/plain": [
       "Index(['IncidentNumber', 'TotalResponseTime_BC', 'ResponseTimeCategory',\n",
       "       'CalYear', 'Incident_Type', 'PropertyCategory', 'BoroughCode',\n",
       "       'Station_Code', 'distance', 'HCat'],\n",
       "      dtype='object')"
      ]
     },
     "execution_count": 46,
     "metadata": {},
     "output_type": "execute_result"
    }
   ],
   "source": [
    "df_model.columns"
   ]
  },
  {
   "cell_type": "code",
   "execution_count": 47,
   "metadata": {
    "colab": {
     "base_uri": "https://localhost:8080/"
    },
    "executionInfo": {
     "elapsed": 177,
     "status": "ok",
     "timestamp": 1734963333171,
     "user": {
      "displayName": "AnChriHao AnChriHao",
      "userId": "01629242505074473503"
     },
     "user_tz": -60
    },
    "id": "G9CSXTO224rW",
    "outputId": "745847f6-e2cf-4255-cea6-ca14f6927e7c"
   },
   "outputs": [
    {
     "data": {
      "text/plain": [
       "(1037713, 10)"
      ]
     },
     "execution_count": 47,
     "metadata": {},
     "output_type": "execute_result"
    }
   ],
   "source": [
    "df_model.shape"
   ]
  },
  {
   "cell_type": "code",
   "execution_count": 48,
   "metadata": {
    "executionInfo": {
     "elapsed": 213,
     "status": "ok",
     "timestamp": 1734963335789,
     "user": {
      "displayName": "AnChriHao AnChriHao",
      "userId": "01629242505074473503"
     },
     "user_tz": -60
    },
    "id": "_aV67vk5zyQn"
   },
   "outputs": [],
   "source": [
    "def entrainement_model(X):\n",
    "    '''\n",
    "    Construction d'une MCA pour garder 95% de l'information du dataFrame\n",
    "\n",
    "    Arg : X -> dataFrame\n",
    "    '''\n",
    "    # Création de l'objet MCA et ajustement du modèle\n",
    "    mca = MCA()\n",
    "\n",
    "    # Création d'une matrice (tableau de tableau) contenant la description de chaque individus\n",
    "    X = X.values\n",
    "\n",
    "    # Entrainement de la MCA sur X\n",
    "    mca.fit(X)\n",
    "\n",
    "    # Récupération de l'indice pour 95% des informations\n",
    "    arg_max =np.argmax(mca.eig_[2,:]>=95)\n",
    "    print(arg_max)\n",
    "\n",
    "    del mca\n",
    "\n",
    "    # Création de la nouvelle ACM\n",
    "    mca= MCA(n_components=arg_max+1,stats=False)\n",
    "\n",
    "    # Entrainement du modèle\n",
    "    mca.fit(X)\n",
    "\n",
    "    return mca, arg_max\n",
    "\n",
    "def transfo_temp(mca,X,arg_max):\n",
    "    '''\n",
    "    Transformation grace à la MCA du dataFrame par jeu de 50 000 lignes\n",
    "\n",
    "    Args :\n",
    "        mca -> transformateur de MCA\n",
    "        X dataFrame\n",
    "    '''\n",
    "    df_mca = pd.DataFrame()\n",
    "    i=0\n",
    "\n",
    "    for i in range(0,(X.shape[0]//50000)):\n",
    "        # Application de de la MCA à df\n",
    "        Y = mca.transform(X.iloc[i*50000:(i+1)*50000,:].values)\n",
    "\n",
    "        # Transformation en dataFrame\n",
    "        Y = pd.DataFrame(Y).iloc[:,:arg_max]\n",
    "\n",
    "        # Concatenation\n",
    "        df_mca = pd.concat([df_mca,Y],axis=0)\n",
    "\n",
    "\n",
    "    # Application de de la MCA à df\n",
    "    Y = mca.transform(X.iloc[(i+1)*50000:,:].values)\n",
    "\n",
    "    # Transformation en dataFrame\n",
    "    Y = pd.DataFrame(Y).iloc[:,:arg_max]\n",
    "\n",
    "    # Concatenation\n",
    "    df_mca = pd.concat([df_mca,Y],axis=0)\n",
    "\n",
    "    return df_mca\n",
    "\n",
    "def ajout_col(X_mca,X):\n",
    "    '''\n",
    "    Ajout des variables cibles et distance\n",
    "\n",
    "    Args : X_mca : dataframe réduit\n",
    "            X : dataframe original (doit contenir 'distance','TotalResponseTime_BC','ResponseTimeCategory' )\n",
    "    '''\n",
    "    # Ajouter la colonne 'distStd'\n",
    "    X_mca['distance'] = X['distance']\n",
    "\n",
    "    # Ajouter la colonne 'TotalResponseTime_BC'\n",
    "    X_mca.insert(0, 'TotalResponseTime_BC', X['TotalResponseTime_BC'])\n",
    "\n",
    "    # Ajouter la colonne 'ResponseTimeCategory'\n",
    "    X_mca.insert(1, 'ResponseTimeCategory', X['ResponseTimeCategory'])\n",
    "\n",
    "    return X_mca"
   ]
  },
  {
   "cell_type": "code",
   "execution_count": 49,
   "metadata": {
    "executionInfo": {
     "elapsed": 2,
     "status": "ok",
     "timestamp": 1734963336579,
     "user": {
      "displayName": "AnChriHao AnChriHao",
      "userId": "01629242505074473503"
     },
     "user_tz": -60
    },
    "id": "xMJyOVXw0Gmj"
   },
   "outputs": [],
   "source": [
    "def transfo_mca(col_desc_quali,df):\n",
    "    '''\n",
    "    Appliquer une réduction de dimension par ACM en conservant 95% des informations\n",
    "\n",
    "    Args:\n",
    "        col_desc_quali -> list : nom des variables qualitatives\n",
    "        df_train, df_validation, df_test -> dataFrame d'entrainement, de validation et de test.\n",
    "        Ces trois dataFrame doivent contenir les variables 'TotalResponseTime_BC', 'ResponseTimeCategory','distStd' et les variables contenues dans col_desc_quali\n",
    "    '''\n",
    "    # Entrainement du modèle\n",
    "    mca, arg_max = entrainement_model(df.loc[:,col_desc_quali])\n",
    "\n",
    "    # Transformation de X_train\n",
    "    df_mca = transfo_temp(mca,df.loc[:,col_desc_quali],arg_max)\n",
    "    df_mca = ajout_col(df_mca,df)\n",
    "\n",
    "    return mca,df_mca"
   ]
  },
  {
   "cell_type": "code",
   "execution_count": 51,
   "metadata": {
    "executionInfo": {
     "elapsed": 78704,
     "status": "ok",
     "timestamp": 1734963415877,
     "user": {
      "displayName": "AnChriHao AnChriHao",
      "userId": "01629242505074473503"
     },
     "user_tz": -60
    },
    "id": "yLky2l1g0fCe"
   },
   "outputs": [
    {
     "name": "stdout",
     "output_type": "stream",
     "text": [
      "131\n"
     ]
    }
   ],
   "source": [
    "col_desc_quali = ['Incident_Type', 'PropertyCategory', 'BoroughCode', 'Station_Code','HCat']\n",
    "\n",
    "mca,df_mca=transfo_mca(col_desc_quali,df_model)"
   ]
  },
  {
   "cell_type": "markdown",
   "metadata": {
    "id": "2emENYxx2Ojw"
   },
   "source": [
    "Enregistrement sur googlecolab"
   ]
  },
  {
   "cell_type": "code",
   "execution_count": null,
   "metadata": {
    "id": "48ividnT2OrM"
   },
   "outputs": [],
   "source": [
    "df_mca.to_csv('/content/gdrive/My Drive/1_Rendu/FinalDatasets/Complete/ModelingDataset_mca.csv', index=False , encoding='utf-8')\n",
    "torch.save(mca.state_dict(), '/content/gdrive/My Drive/1_Rendu/Model/modele_mca.pth')"
   ]
  },
  {
   "cell_type": "markdown",
   "metadata": {
    "id": "LeAIS2Dg2O0K"
   },
   "source": [
    "Enregistrement en local"
   ]
  },
  {
   "cell_type": "code",
   "execution_count": 56,
   "metadata": {
    "id": "03dl_p0X2O8J"
   },
   "outputs": [],
   "source": [
    "df_mca.to_csv('../Data/Datapreprocessing/Complete/ModelingDataset_mca.csv', index=False , encoding='utf-8')\n"
   ]
  },
  {
   "cell_type": "code",
   "execution_count": 57,
   "metadata": {},
   "outputs": [
    {
     "data": {
      "text/plain": [
       "(1037713, 134)"
      ]
     },
     "execution_count": 57,
     "metadata": {},
     "output_type": "execute_result"
    }
   ],
   "source": [
    "df_mca.shape"
   ]
  },
  {
   "cell_type": "markdown",
   "metadata": {
    "id": "ROT_3_OAEViI"
   },
   "source": [
    "# <font color='red'> 4) Split du jeu de données\n",
    " </font>\n",
    "\n",
    "\n",
    "\n",
    "\n",
    "\n"
   ]
  },
  {
   "cell_type": "markdown",
   "metadata": {
    "id": "0gajczLdrt7N"
   },
   "source": [
    "## <font color='blue'>4.a) Split du dataset \"complet\" </font>"
   ]
  },
  {
   "cell_type": "markdown",
   "metadata": {
    "id": "Ts9lKHUbEteB"
   },
   "source": [
    "#### Methode pour le split"
   ]
  },
  {
   "cell_type": "code",
   "execution_count": null,
   "metadata": {
    "id": "Bndx6V_lAHv_"
   },
   "outputs": [],
   "source": [
    "def split_dataframe(df, train_ratio, validation_ratio, test_ratio, random_state=None):\n",
    "    \"\"\"\n",
    "    Divise un DataFrame en trois parties : train, validation, et test.\n",
    "\n",
    "    Parameters:\n",
    "    - df (pd.DataFrame): Le DataFrame à diviser.\n",
    "    - train_ratio (float): Proportion des données pour l'ensemble d'entraînement.\n",
    "    - validation_ratio (float): Proportion des données pour l'ensemble de validation.\n",
    "    - test_ratio (float): Proportion des données pour l'ensemble de test.\n",
    "    - random_state (int, optional): Pour reproduire la même division aléatoire.\n",
    "\n",
    "    Returns:\n",
    "    - train_df (pd.DataFrame): Jeu d'entraînement.\n",
    "    - validation_df (pd.DataFrame): Jeu de validation.\n",
    "    - test_df (pd.DataFrame): Jeu de test.\n",
    "    \"\"\"\n",
    "    total_ratio = train_ratio + validation_ratio + test_ratio\n",
    "    assert abs(total_ratio - 1.0) < 1e-6, f\"Les proportions doivent totaliser 1. Actuellement : {total_ratio}\"\n",
    "\n",
    "    # Mélanger les données\n",
    "    df = df.sample(frac=1, random_state=random_state).reset_index(drop=True)\n",
    "\n",
    "    # Étape 1 : Diviser en train + temp (validation + test)\n",
    "    train_df, temp_df = train_test_split(df, test_size=(1 - train_ratio), random_state=random_state)\n",
    "\n",
    "    # Étape 2 : Diviser temp en validation et test\n",
    "    validation_df, test_df = train_test_split(temp_df,\n",
    "                                              test_size=test_ratio / (test_ratio + validation_ratio),\n",
    "                                              random_state=random_state)\n",
    "\n",
    "    return train_df, validation_df, test_df"
   ]
  },
  {
   "cell_type": "markdown",
   "metadata": {
    "id": "k_4V3kpHE0kh"
   },
   "source": [
    "#### Split du jeu données"
   ]
  },
  {
   "cell_type": "markdown",
   "metadata": {
    "id": "jNpEzzzQbMRr"
   },
   "source": [
    "Dans un premier temps, on divise le jeu de données `df_model` en 3 jeux de données pour l'entraînement, la validation et le test de modèles. grâce à la fonction `split_dataframe`. Nous utilisons `random_state=2024` pour pouvoir reproduire ce split.\n",
    "\n",
    "*Nota Bene* : nous avons vérifié et la répartition des incidents par `CalYear` est similaire dans les 3 jeux de données.\n",
    "\n"
   ]
  },
  {
   "cell_type": "code",
   "execution_count": null,
   "metadata": {
    "id": "jd7yN726ApSN"
   },
   "outputs": [],
   "source": [
    "train_df, validation_df, test_df = split_dataframe(df_model, 0.7, 0.15, 0.15, 2024)\n",
    "\n",
    "# regroupement de train et validation pour la dernière étape de modélisation\n",
    "train2_df = pd.concat([train_df, validation_df])\n",
    "\n",
    "## df_model.CalYear.value_counts(normalize=True)\n",
    "## train_df.CalYear.value_counts(normalize=True)\n",
    "## validation_df.CalYear.value_counts(normalize=True)\n",
    "## test_df.CalYear.value_counts(normalize=True)"
   ]
  },
  {
   "cell_type": "markdown",
   "metadata": {
    "id": "-otiYnTeFCRQ"
   },
   "source": [
    "#### Standardisation de la distance"
   ]
  },
  {
   "cell_type": "markdown",
   "metadata": {
    "id": "X4Izt667FFPz"
   },
   "source": [
    "Une fois le jeu de données divisé, nous standardisons la variable quantitative `distance`. Comme nous avons pu le constater dans le notebook précédent, la répartition de la distance est asymétrique avec une médiane à 1,4 km et un maximum à 40,3 km. Nous avons donc choisi la méthode de standardisation `RobustScaler` qui utilise la médiane et l'interquartile.\n",
    "\n",
    "Ci-dessous, nous avons appliqué les 3 standardisations à l'ensemble des données de `df_model` pour comparer leurs statistiques descriptives. Cela confirme que la méthode `RobustScaler` est la plus adaptée."
   ]
  },
  {
   "cell_type": "code",
   "execution_count": null,
   "metadata": {
    "colab": {
     "base_uri": "https://localhost:8080/",
     "height": 300
    },
    "executionInfo": {
     "elapsed": 405,
     "status": "ok",
     "timestamp": 1734870066360,
     "user": {
      "displayName": "AnChriHao AnChriHao",
      "userId": "01629242505074473503"
     },
     "user_tz": -60
    },
    "id": "rSuysw1GBELO",
    "outputId": "a13db267-1215-4b04-9928-0c2df564bfbd"
   },
   "outputs": [
    {
     "data": {
      "application/vnd.google.colaboratory.intrinsic+json": {
       "summary": "{\n  \"name\": \"#del tempo\",\n  \"rows\": 8,\n  \"fields\": [\n    {\n      \"column\": \"distance\",\n      \"properties\": {\n        \"dtype\": \"string\",\n        \"num_unique_values\": 8,\n        \"samples\": [\n          \"1754.00\",\n          \"1429.71\",\n          \"1037713.00\"\n        ],\n        \"semantic_type\": \"\",\n        \"description\": \"\"\n      }\n    },\n    {\n      \"column\": \"dist_norm\",\n      \"properties\": {\n        \"dtype\": \"string\",\n        \"num_unique_values\": 8,\n        \"samples\": [\n          \"0.00\",\n          \"-0.18\",\n          \"1037713.00\"\n        ],\n        \"semantic_type\": \"\",\n        \"description\": \"\"\n      }\n    },\n    {\n      \"column\": \"dist_rob\",\n      \"properties\": {\n        \"dtype\": \"string\",\n        \"num_unique_values\": 8,\n        \"samples\": [\n          \"0.26\",\n          \"0.00\",\n          \"1037713.00\"\n        ],\n        \"semantic_type\": \"\",\n        \"description\": \"\"\n      }\n    },\n    {\n      \"column\": \"dist_min\",\n      \"properties\": {\n        \"dtype\": \"string\",\n        \"num_unique_values\": 6,\n        \"samples\": [\n          \"1037713.00\",\n          \"0.04\",\n          \"1.00\"\n        ],\n        \"semantic_type\": \"\",\n        \"description\": \"\"\n      }\n    }\n  ]\n}",
       "type": "dataframe"
      },
      "text/html": [
       "\n",
       "  <div id=\"df-05261548-bdbf-40c3-acd2-72035ea61d0b\" class=\"colab-df-container\">\n",
       "    <div>\n",
       "<style scoped>\n",
       "    .dataframe tbody tr th:only-of-type {\n",
       "        vertical-align: middle;\n",
       "    }\n",
       "\n",
       "    .dataframe tbody tr th {\n",
       "        vertical-align: top;\n",
       "    }\n",
       "\n",
       "    .dataframe thead th {\n",
       "        text-align: right;\n",
       "    }\n",
       "</style>\n",
       "<table border=\"1\" class=\"dataframe\">\n",
       "  <thead>\n",
       "    <tr style=\"text-align: right;\">\n",
       "      <th></th>\n",
       "      <th>distance</th>\n",
       "      <th>dist_norm</th>\n",
       "      <th>dist_rob</th>\n",
       "      <th>dist_min</th>\n",
       "    </tr>\n",
       "  </thead>\n",
       "  <tbody>\n",
       "    <tr>\n",
       "      <th>count</th>\n",
       "      <td>1037713.00</td>\n",
       "      <td>1037713.00</td>\n",
       "      <td>1037713.00</td>\n",
       "      <td>1037713.00</td>\n",
       "    </tr>\n",
       "    <tr>\n",
       "      <th>mean</th>\n",
       "      <td>1754.00</td>\n",
       "      <td>0.00</td>\n",
       "      <td>0.26</td>\n",
       "      <td>0.04</td>\n",
       "    </tr>\n",
       "    <tr>\n",
       "      <th>std</th>\n",
       "      <td>1766.98</td>\n",
       "      <td>1.00</td>\n",
       "      <td>1.41</td>\n",
       "      <td>0.04</td>\n",
       "    </tr>\n",
       "    <tr>\n",
       "      <th>min</th>\n",
       "      <td>0.20</td>\n",
       "      <td>-0.99</td>\n",
       "      <td>-1.14</td>\n",
       "      <td>0.00</td>\n",
       "    </tr>\n",
       "    <tr>\n",
       "      <th>25%</th>\n",
       "      <td>874.81</td>\n",
       "      <td>-0.50</td>\n",
       "      <td>-0.44</td>\n",
       "      <td>0.02</td>\n",
       "    </tr>\n",
       "    <tr>\n",
       "      <th>50%</th>\n",
       "      <td>1429.71</td>\n",
       "      <td>-0.18</td>\n",
       "      <td>0.00</td>\n",
       "      <td>0.04</td>\n",
       "    </tr>\n",
       "    <tr>\n",
       "      <th>75%</th>\n",
       "      <td>2123.69</td>\n",
       "      <td>0.21</td>\n",
       "      <td>0.56</td>\n",
       "      <td>0.05</td>\n",
       "    </tr>\n",
       "    <tr>\n",
       "      <th>max</th>\n",
       "      <td>40325.33</td>\n",
       "      <td>21.83</td>\n",
       "      <td>31.14</td>\n",
       "      <td>1.00</td>\n",
       "    </tr>\n",
       "  </tbody>\n",
       "</table>\n",
       "</div>\n",
       "    <div class=\"colab-df-buttons\">\n",
       "\n",
       "  <div class=\"colab-df-container\">\n",
       "    <button class=\"colab-df-convert\" onclick=\"convertToInteractive('df-05261548-bdbf-40c3-acd2-72035ea61d0b')\"\n",
       "            title=\"Convert this dataframe to an interactive table.\"\n",
       "            style=\"display:none;\">\n",
       "\n",
       "  <svg xmlns=\"http://www.w3.org/2000/svg\" height=\"24px\" viewBox=\"0 -960 960 960\">\n",
       "    <path d=\"M120-120v-720h720v720H120Zm60-500h600v-160H180v160Zm220 220h160v-160H400v160Zm0 220h160v-160H400v160ZM180-400h160v-160H180v160Zm440 0h160v-160H620v160ZM180-180h160v-160H180v160Zm440 0h160v-160H620v160Z\"/>\n",
       "  </svg>\n",
       "    </button>\n",
       "\n",
       "  <style>\n",
       "    .colab-df-container {\n",
       "      display:flex;\n",
       "      gap: 12px;\n",
       "    }\n",
       "\n",
       "    .colab-df-convert {\n",
       "      background-color: #E8F0FE;\n",
       "      border: none;\n",
       "      border-radius: 50%;\n",
       "      cursor: pointer;\n",
       "      display: none;\n",
       "      fill: #1967D2;\n",
       "      height: 32px;\n",
       "      padding: 0 0 0 0;\n",
       "      width: 32px;\n",
       "    }\n",
       "\n",
       "    .colab-df-convert:hover {\n",
       "      background-color: #E2EBFA;\n",
       "      box-shadow: 0px 1px 2px rgba(60, 64, 67, 0.3), 0px 1px 3px 1px rgba(60, 64, 67, 0.15);\n",
       "      fill: #174EA6;\n",
       "    }\n",
       "\n",
       "    .colab-df-buttons div {\n",
       "      margin-bottom: 4px;\n",
       "    }\n",
       "\n",
       "    [theme=dark] .colab-df-convert {\n",
       "      background-color: #3B4455;\n",
       "      fill: #D2E3FC;\n",
       "    }\n",
       "\n",
       "    [theme=dark] .colab-df-convert:hover {\n",
       "      background-color: #434B5C;\n",
       "      box-shadow: 0px 1px 3px 1px rgba(0, 0, 0, 0.15);\n",
       "      filter: drop-shadow(0px 1px 2px rgba(0, 0, 0, 0.3));\n",
       "      fill: #FFFFFF;\n",
       "    }\n",
       "  </style>\n",
       "\n",
       "    <script>\n",
       "      const buttonEl =\n",
       "        document.querySelector('#df-05261548-bdbf-40c3-acd2-72035ea61d0b button.colab-df-convert');\n",
       "      buttonEl.style.display =\n",
       "        google.colab.kernel.accessAllowed ? 'block' : 'none';\n",
       "\n",
       "      async function convertToInteractive(key) {\n",
       "        const element = document.querySelector('#df-05261548-bdbf-40c3-acd2-72035ea61d0b');\n",
       "        const dataTable =\n",
       "          await google.colab.kernel.invokeFunction('convertToInteractive',\n",
       "                                                    [key], {});\n",
       "        if (!dataTable) return;\n",
       "\n",
       "        const docLinkHtml = 'Like what you see? Visit the ' +\n",
       "          '<a target=\"_blank\" href=https://colab.research.google.com/notebooks/data_table.ipynb>data table notebook</a>'\n",
       "          + ' to learn more about interactive tables.';\n",
       "        element.innerHTML = '';\n",
       "        dataTable['output_type'] = 'display_data';\n",
       "        await google.colab.output.renderOutput(dataTable, element);\n",
       "        const docLink = document.createElement('div');\n",
       "        docLink.innerHTML = docLinkHtml;\n",
       "        element.appendChild(docLink);\n",
       "      }\n",
       "    </script>\n",
       "  </div>\n",
       "\n",
       "\n",
       "<div id=\"df-abc84569-c03e-4e9a-97fd-33a71b90b4ec\">\n",
       "  <button class=\"colab-df-quickchart\" onclick=\"quickchart('df-abc84569-c03e-4e9a-97fd-33a71b90b4ec')\"\n",
       "            title=\"Suggest charts\"\n",
       "            style=\"display:none;\">\n",
       "\n",
       "<svg xmlns=\"http://www.w3.org/2000/svg\" height=\"24px\"viewBox=\"0 0 24 24\"\n",
       "     width=\"24px\">\n",
       "    <g>\n",
       "        <path d=\"M19 3H5c-1.1 0-2 .9-2 2v14c0 1.1.9 2 2 2h14c1.1 0 2-.9 2-2V5c0-1.1-.9-2-2-2zM9 17H7v-7h2v7zm4 0h-2V7h2v10zm4 0h-2v-4h2v4z\"/>\n",
       "    </g>\n",
       "</svg>\n",
       "  </button>\n",
       "\n",
       "<style>\n",
       "  .colab-df-quickchart {\n",
       "      --bg-color: #E8F0FE;\n",
       "      --fill-color: #1967D2;\n",
       "      --hover-bg-color: #E2EBFA;\n",
       "      --hover-fill-color: #174EA6;\n",
       "      --disabled-fill-color: #AAA;\n",
       "      --disabled-bg-color: #DDD;\n",
       "  }\n",
       "\n",
       "  [theme=dark] .colab-df-quickchart {\n",
       "      --bg-color: #3B4455;\n",
       "      --fill-color: #D2E3FC;\n",
       "      --hover-bg-color: #434B5C;\n",
       "      --hover-fill-color: #FFFFFF;\n",
       "      --disabled-bg-color: #3B4455;\n",
       "      --disabled-fill-color: #666;\n",
       "  }\n",
       "\n",
       "  .colab-df-quickchart {\n",
       "    background-color: var(--bg-color);\n",
       "    border: none;\n",
       "    border-radius: 50%;\n",
       "    cursor: pointer;\n",
       "    display: none;\n",
       "    fill: var(--fill-color);\n",
       "    height: 32px;\n",
       "    padding: 0;\n",
       "    width: 32px;\n",
       "  }\n",
       "\n",
       "  .colab-df-quickchart:hover {\n",
       "    background-color: var(--hover-bg-color);\n",
       "    box-shadow: 0 1px 2px rgba(60, 64, 67, 0.3), 0 1px 3px 1px rgba(60, 64, 67, 0.15);\n",
       "    fill: var(--button-hover-fill-color);\n",
       "  }\n",
       "\n",
       "  .colab-df-quickchart-complete:disabled,\n",
       "  .colab-df-quickchart-complete:disabled:hover {\n",
       "    background-color: var(--disabled-bg-color);\n",
       "    fill: var(--disabled-fill-color);\n",
       "    box-shadow: none;\n",
       "  }\n",
       "\n",
       "  .colab-df-spinner {\n",
       "    border: 2px solid var(--fill-color);\n",
       "    border-color: transparent;\n",
       "    border-bottom-color: var(--fill-color);\n",
       "    animation:\n",
       "      spin 1s steps(1) infinite;\n",
       "  }\n",
       "\n",
       "  @keyframes spin {\n",
       "    0% {\n",
       "      border-color: transparent;\n",
       "      border-bottom-color: var(--fill-color);\n",
       "      border-left-color: var(--fill-color);\n",
       "    }\n",
       "    20% {\n",
       "      border-color: transparent;\n",
       "      border-left-color: var(--fill-color);\n",
       "      border-top-color: var(--fill-color);\n",
       "    }\n",
       "    30% {\n",
       "      border-color: transparent;\n",
       "      border-left-color: var(--fill-color);\n",
       "      border-top-color: var(--fill-color);\n",
       "      border-right-color: var(--fill-color);\n",
       "    }\n",
       "    40% {\n",
       "      border-color: transparent;\n",
       "      border-right-color: var(--fill-color);\n",
       "      border-top-color: var(--fill-color);\n",
       "    }\n",
       "    60% {\n",
       "      border-color: transparent;\n",
       "      border-right-color: var(--fill-color);\n",
       "    }\n",
       "    80% {\n",
       "      border-color: transparent;\n",
       "      border-right-color: var(--fill-color);\n",
       "      border-bottom-color: var(--fill-color);\n",
       "    }\n",
       "    90% {\n",
       "      border-color: transparent;\n",
       "      border-bottom-color: var(--fill-color);\n",
       "    }\n",
       "  }\n",
       "</style>\n",
       "\n",
       "  <script>\n",
       "    async function quickchart(key) {\n",
       "      const quickchartButtonEl =\n",
       "        document.querySelector('#' + key + ' button');\n",
       "      quickchartButtonEl.disabled = true;  // To prevent multiple clicks.\n",
       "      quickchartButtonEl.classList.add('colab-df-spinner');\n",
       "      try {\n",
       "        const charts = await google.colab.kernel.invokeFunction(\n",
       "            'suggestCharts', [key], {});\n",
       "      } catch (error) {\n",
       "        console.error('Error during call to suggestCharts:', error);\n",
       "      }\n",
       "      quickchartButtonEl.classList.remove('colab-df-spinner');\n",
       "      quickchartButtonEl.classList.add('colab-df-quickchart-complete');\n",
       "    }\n",
       "    (() => {\n",
       "      let quickchartButtonEl =\n",
       "        document.querySelector('#df-abc84569-c03e-4e9a-97fd-33a71b90b4ec button');\n",
       "      quickchartButtonEl.style.display =\n",
       "        google.colab.kernel.accessAllowed ? 'block' : 'none';\n",
       "    })();\n",
       "  </script>\n",
       "</div>\n",
       "\n",
       "    </div>\n",
       "  </div>\n"
      ],
      "text/plain": [
       "         distance   dist_norm    dist_rob    dist_min\n",
       "count  1037713.00  1037713.00  1037713.00  1037713.00\n",
       "mean      1754.00        0.00        0.26        0.04\n",
       "std       1766.98        1.00        1.41        0.04\n",
       "min          0.20       -0.99       -1.14        0.00\n",
       "25%        874.81       -0.50       -0.44        0.02\n",
       "50%       1429.71       -0.18        0.00        0.04\n",
       "75%       2123.69        0.21        0.56        0.05\n",
       "max      40325.33       21.83       31.14        1.00"
      ]
     },
     "metadata": {},
     "output_type": "display_data"
    }
   ],
   "source": [
    "# statistique descriptive sur la distance\n",
    "tempo = df_model[['distance']].copy(deep=True)\n",
    "tempo['dist_rob']=pd.DataFrame(RobustScaler().fit_transform(tempo[['distance']]))\n",
    "tempo['dist_norm']=pd.DataFrame(StandardScaler().fit_transform(tempo[['distance']]))\n",
    "tempo['dist_min']=pd.DataFrame(MinMaxScaler().fit_transform(tempo[['distance']]))\n",
    "\n",
    "\n",
    "\n",
    "display(tempo[['distance', 'dist_norm', 'dist_rob', 'dist_min']].describe().apply(lambda s: s.apply('{0:.2f}'.format)))\n",
    "#del tempo"
   ]
  },
  {
   "cell_type": "markdown",
   "metadata": {
    "id": "m_dh6po9hZmD"
   },
   "source": [
    "Nous effectuons 2 standardisations en prenant en compte les données du jeu de données train (`train_df`) et celles des 2 jeux de données regroupées `train_df` et `validation_df` (soit `train2_df`). Chaque standardisation sera utilisée à une étape différente de la modélisation."
   ]
  },
  {
   "cell_type": "code",
   "execution_count": null,
   "metadata": {
    "id": "tgdRIgYzZZQW"
   },
   "outputs": [],
   "source": [
    "# premier cas : on utiliser la médiane et IQR de train_df\n",
    "scaler = RobustScaler()\n",
    "train_df['distStd'] = scaler.fit_transform(train_df[['distance']]) # fit et transform sur train_df\n",
    "validation_df['distStd'] = scaler.transform(validation_df[['distance']]) # uniquement le transform sur validation_df\n",
    "\n",
    "\n",
    "# second cas : on utilise la médiane et IQR du regroupement de train_df + validation_df\n",
    "scaler = RobustScaler()\n",
    "train2_df['distStd'] = scaler.fit_transform(train2_df[['distance']]) # fit et transform sur train2_df\n",
    "test_df['distStd'] = scaler.transform(test_df[['distance']]) # uniquement le transfomr sur test_df\n"
   ]
  },
  {
   "cell_type": "code",
   "execution_count": null,
   "metadata": {
    "id": "okHrxSHsnrux"
   },
   "outputs": [],
   "source": [
    "# display(train_df[['distance', 'distStd']].describe().apply(lambda s: s.apply('{0:.2f}'.format)))\n",
    "# display(validation_df[['distance', 'distStd']].describe().apply(lambda s: s.apply('{0:.2f}'.format)))\n",
    "\n",
    "# display(train2_df[['distance', 'distStd']].describe().apply(lambda s: s.apply('{0:.2f}'.format)))\n",
    "# display(test_df[['distance', 'distStd']].describe().apply(lambda s: s.apply('{0:.2f}'.format)))"
   ]
  },
  {
   "cell_type": "code",
   "execution_count": null,
   "metadata": {
    "id": "dBR8UiYNnrz2"
   },
   "outputs": [],
   "source": [
    "# on conserve uniquement la distance standardisée (on pourra retrouver la distance \"originale\" dans le dataset df_model et df_clean)\n",
    "# on supprime la colonne CalYear, on conserve IncidentNumber pour pouvoir retrouver les liens avec df_model et df_clean\n",
    "train_df.drop(columns=['distance', 'CalYear'], inplace=True)\n",
    "validation_df.drop(columns=['distance', 'CalYear'], inplace=True)\n",
    "test_df.drop(columns=['distance', 'CalYear'], inplace=True)\n",
    "train2_df.drop(columns=['distance', 'CalYear'], inplace=True)"
   ]
  },
  {
   "cell_type": "markdown",
   "metadata": {
    "id": "vyM4u5CKiH7p"
   },
   "source": [
    "#### Enregistrement des différents jeux de données"
   ]
  },
  {
   "cell_type": "markdown",
   "metadata": {
    "id": "NQGxIF3Lk9U3"
   },
   "source": [
    "Enregistrement sur Google Colab"
   ]
  },
  {
   "cell_type": "code",
   "execution_count": null,
   "metadata": {
    "id": "q7HntR0uk9vQ"
   },
   "outputs": [],
   "source": [
    "train_df.to_csv('/content/gdrive/My Drive/1_Rendu/FinalDatasets/Complete/Train_Dataset_nobin.csv', index=False , encoding='utf-8')\n",
    "validation_df.to_csv('/content/gdrive/My Drive/1_Rendu/FinalDatasets/Complete/Validation_Dataset_nobin.csv', index=False , encoding='utf-8')\n",
    "train2_df.to_csv('/content/gdrive/My Drive/1_Rendu/FinalDatasets/Complete/Train_Step3_Dataset_nobin.csv', index=False , encoding='utf-8')\n",
    "test_df.to_csv('/content/gdrive/My Drive/1_Rendu/FinalDatasets/Complete/Test_Dataset_nobin.csv', index=False , encoding='utf-8')"
   ]
  },
  {
   "cell_type": "markdown",
   "metadata": {
    "id": "znjl0F92k94h"
   },
   "source": [
    "Enregistrement en local"
   ]
  },
  {
   "cell_type": "code",
   "execution_count": null,
   "metadata": {
    "id": "1ODZ6LhuPhSj"
   },
   "outputs": [],
   "source": [
    "train_df.to_csv('../Data/Datapreprocessing/Complete/Train_Dataset_nobin.csv', index=False , encoding='utf-8')\n",
    "validation_df.to_csv('../Data/Datapreprocessing/Complete/Validation_Dataset_nobin.csv', index=False , encoding='utf-8')\n",
    "train2_df.to_csv('../Data/Datapreprocessing/Complete/Complete/Train_Step3_Dataset_nobin.csv', index=False , encoding='utf-8')\n",
    "test_df.to_csv('../Data/Datapreprocessing/Complete/Complete/Test_Dataset_nobin.csv', index=False , encoding='utf-8')"
   ]
  },
  {
   "cell_type": "markdown",
   "metadata": {
    "id": "b4J6D1nIk-J_"
   },
   "source": [
    "Lecture sur Google Colab"
   ]
  },
  {
   "cell_type": "code",
   "execution_count": null,
   "metadata": {
    "id": "ZCRGXuAqk-Ss"
   },
   "outputs": [],
   "source": [
    "train_df = pd.read_csv('/content/gdrive/My Drive/1_Rendu/FinalDatasets/Complete/Train_Dataset_nobin.csv', low_memory=False)\n",
    "validation_df = pd.read_csv('/content/gdrive/My Drive/1_Rendu/FinalDatasets/Complete/Validation_Dataset_nobin.csv', low_memory=False)\n",
    "train2_df = pd.read_csv('/content/gdrive/My Drive/1_Rendu/FinalDatasets/Complete/Train_Step3_Dataset_nobin.csv', low_memory=False)\n",
    "test_df = pd.read_csv('/content/gdrive/My Drive/1_Rendu/FinalDatasets/Complete/Test_Dataset_nobin.csv', low_memory=False)\n",
    "\n"
   ]
  },
  {
   "cell_type": "markdown",
   "metadata": {
    "id": "5LVQfLGElMMF"
   },
   "source": [
    "Lecture en local"
   ]
  },
  {
   "cell_type": "code",
   "execution_count": null,
   "metadata": {
    "id": "7wVqZ7Ve3eob"
   },
   "outputs": [],
   "source": [
    "train_df = pd.read_csv('../Data/Datapreprocessing/Complete/Train_Dataset_nobin.csv', low_memory=False)\n",
    "validation_df = pd.read_csv('../Data/Datapreprocessing/Complete/Validation_Dataset_nobin.csv', low_memory=False)\n",
    "train2_df = pd.read_csv('../Data/Datapreprocessing/Complete/Train_Step3_Dataset_nobin.csv', low_memory=False)\n",
    "test_df = pd.read_csv('../Data/Datapreprocessing/Complete/Test_Dataset_nobin.csv', low_memory=False)"
   ]
  },
  {
   "cell_type": "markdown",
   "metadata": {
    "id": "lvsEvAjsiYeg"
   },
   "source": [
    "## <font color='blue'>4.b) Création de datasets \"réduits\" </font>"
   ]
  },
  {
   "cell_type": "markdown",
   "metadata": {
    "id": "UaO2yaK_im--"
   },
   "source": [
    "Pour rappel, une fois la binarisation des variables qualitatives effectuée, notre jeu de données avant split contient 1 037 713 lignes et 177 colonnes. Nous nous attendons à des difficultés lors de l'entraînement des modèles (temps d'exécution trop long, problème de convergence pour l'algorithme), surtout pour les plus complexes. Nous créons donc des jeux de données réduits. Pour effectuer la sélection, nous prenons en compte l'année de l'incident. En effet, nous préférons conserver en priorité les données les plus récentes tout en prenant en compte les plus anciennes."
   ]
  },
  {
   "cell_type": "markdown",
   "metadata": {
    "id": "BMrCru_jrPao"
   },
   "source": [
    "#### Methode pour le split avec réduction"
   ]
  },
  {
   "cell_type": "code",
   "execution_count": null,
   "metadata": {
    "id": "zWP3m2qzo_Cg"
   },
   "outputs": [],
   "source": [
    "def split_final(df, ratio_year, ratio_separation, nb_ligne_2024=0, random_state=None):\n",
    "    \"\"\"\n",
    "    Divise un DataFrame par année selon les ratios fournis et retourne 3 DataFrames globaux associé au 3 Series y.\n",
    "\n",
    "    Parameters:\n",
    "    - df (pd.DataFrame): Le DataFrame à diviser. Doit contenir la variable CalYear avec des valeurs comprises entre 2014 et 2024\n",
    "    - ratio_year (list): liste des ratios de valeurs souhaitées dans chaque année\n",
    "    - ratio_separation (list): liste des ratio train/validation/test\n",
    "    - random_state (int, optional): Pour reproduire les mêmes divisions aléatoires.\n",
    "\n",
    "    Returns:\n",
    "    - train_dfs (pd.DataFrame): Jeu d'entraînement.\n",
    "    - val_dfs (pd.DataFrame): Jeu de validation.\n",
    "    - test_dfs (pd.DataFrame): Jeu de test.\n",
    "    - train_ys (pd.Serie): Résultat du jeu d'entraînement.\n",
    "    - val_ys (pd.Serie): Résultat du jeu de validation.\n",
    "    - test_ys (pd.Serie): Résultat du jeu de test.\n",
    "    \"\"\"\n",
    "\n",
    "\n",
    "    # Vérification des ratios\n",
    "    total_ratio_separation = sum(ratio_separation)\n",
    "    assert abs(total_ratio_separation - 1.0) < 1e-6, f\"Les proportions de séparation doivent totaliser 1. Actuellement : {total_ratio_separation}\"\n",
    "    total_ratio_repartition = sum(ratio_year)\n",
    "    assert abs(total_ratio_repartition - 1.0) < 1e-6, f\"Les proportions de séparation doivent totaliser 1. Actuellement : {total_ratio_repartition}\"\n",
    "\n",
    "    # Filtrer les données pour l'année\n",
    "    filtered_df = df[df['CalYear'] == 2024]\n",
    "\n",
    "    ratio_0 = ratio_year[10]\n",
    "    if (int(nb_ligne_2024*ratio_0)>filtered_df.shape[0]) | (nb_ligne_2024==0):\n",
    "      nb_ligne = filtered_df.shape[0]\n",
    "    else:\n",
    "      nb_ligne = int(nb_ligne_2024*ratio_0)\n",
    "\n",
    "    # Mélanger les données\n",
    "    filtered_df = filtered_df.sample(frac=1, random_state=random_state).reset_index(drop=True)\n",
    "    # on selectionne nb_ligne parmi les lignes de filtered_df\n",
    "    filtered_d = filtered_df[:int(nb_ligne)]\n",
    "\n",
    "    # Diviser les données en 3 (train, validation et test)\n",
    "    train_Xs, val_Xs, test_Xs, = split_dataframe(\n",
    "        filtered_d,\n",
    "        train_ratio=ratio_separation[0],\n",
    "        validation_ratio=ratio_separation[1],\n",
    "        test_ratio=ratio_separation[2],\n",
    "        random_state=random_state,\n",
    "    )\n",
    "\n",
    "    # liste des années en décroissant\n",
    "    list_year = [2023 , 2022 , 2021 , 2020 , 2019 , 2018 , 2017 , 2016 , 2015 , 2014]\n",
    "\n",
    "    for indice, year in enumerate(list_year):\n",
    "        # Récupérer le ratio pour l'année\n",
    "        ratio = ratio_year[9-indice]\n",
    "\n",
    "        # Filtrer les données pour l'année\n",
    "        filtered_df = df[df[\"CalYear\"] == year]\n",
    "\n",
    "        # Mélanger les données\n",
    "        filtered_df = filtered_df.sample(frac=1, random_state=random_state).reset_index(drop=True)\n",
    "\n",
    "        if int(nb_ligne*ratio/filtered_df.shape[0]) > ratio_0:\n",
    "            print('trop petit ',list_year[indice])\n",
    "            break\n",
    "        else :\n",
    "            # Récupération du nombre de lignes nécessaires\n",
    "            filtered_d = filtered_df[:int(nb_ligne*ratio/ratio_0)]\n",
    "\n",
    "        # Diviser les données\n",
    "        train_X, val_X, test_X = split_dataframe(\n",
    "            filtered_d,\n",
    "            train_ratio=ratio_separation[0],\n",
    "            validation_ratio=ratio_separation[1],\n",
    "            test_ratio=ratio_separation[2],\n",
    "            random_state=random_state,\n",
    "        )\n",
    "\n",
    "        # Concaténation des données\n",
    "        train_Xs = pd.concat([train_Xs , train_X] , axis = 0)\n",
    "        val_Xs = pd.concat([val_Xs , val_X] , axis = 0)\n",
    "        test_Xs = pd.concat([test_Xs , test_X] , axis = 0)\n",
    "\n",
    "    return train_Xs, val_Xs, test_Xs\n"
   ]
  },
  {
   "cell_type": "markdown",
   "metadata": {
    "id": "YxBnX2VfEoYn"
   },
   "source": [
    "#### Split du jeu de données"
   ]
  },
  {
   "cell_type": "markdown",
   "metadata": {
    "id": "oBE7NTWIEsiG"
   },
   "source": [
    "On choisit de faire une première réduction de sorte à faire une sélection sur les années 2014 à 2023 et à avoir la totalité des lignes 2024 (les plus récentes), soit les 92087 incidents."
   ]
  },
  {
   "cell_type": "code",
   "execution_count": null,
   "metadata": {
    "id": "0mPkRtfmpCBp"
   },
   "outputs": [],
   "source": [
    "# premiere reduction avec la totalité des données sur 2024 (92 087 lignes)\n",
    "# au total 306 953 lignes (92 087/0.3)\n",
    "train_reduit1, val_reduit1, test_reduit1 = split_final(\n",
    "    df_model,\n",
    "    ratio_separation = [0.7 , 0.15 , 0.15],\n",
    "    ratio_year = [0.02 , 0.02 , 0.02 , 0.02, 0.02 , 0.05 , 0.05,  0.1 , 0.1 , 0.3, 0.3 ],\n",
    "    nb_ligne_2024=df_model.shape[0],\n",
    "    random_state = 2024)"
   ]
  },
  {
   "cell_type": "code",
   "execution_count": null,
   "metadata": {
    "colab": {
     "base_uri": "https://localhost:8080/"
    },
    "executionInfo": {
     "elapsed": 200,
     "status": "ok",
     "timestamp": 1734870112516,
     "user": {
      "displayName": "AnChriHao AnChriHao",
      "userId": "01629242505074473503"
     },
     "user_tz": -60
    },
    "id": "wSjpXvuQBgBt",
    "outputId": "f3016486-3b19-4883-b4a9-6ec797e68681"
   },
   "outputs": [
    {
     "name": "stdout",
     "output_type": "stream",
     "text": [
      "Nb d'incidents en 2024 : 92087\n",
      "Nb d'incidents sur 10 ans avec 30% en 2024 : 306957.0\n",
      "Nb d'incidents sélectionnés (vérification) :  306953\n",
      "dont 2024 :  92087\n"
     ]
    }
   ],
   "source": [
    "print('Nb d\\'incidents en 2024 :', df_model[df_model.CalYear==2024].shape[0])\n",
    "print('Nb d\\'incidents sur 10 ans avec 30% en 2024 :', np.round(df_model[df_model.CalYear==2024].shape[0]/0.3,0))\n",
    "print('Nb d\\'incidents sélectionnés (vérification) : ', train_reduit1.shape[0] +  test_reduit1.shape[0] + val_reduit1.shape[0])\n",
    "print('dont 2024 : ', train_reduit1[train_reduit1.CalYear==2024].shape[0] +  test_reduit1[test_reduit1.CalYear==2024].shape[0] + val_reduit1[val_reduit1.CalYear==2024].shape[0])"
   ]
  },
  {
   "cell_type": "code",
   "execution_count": null,
   "metadata": {
    "colab": {
     "base_uri": "https://localhost:8080/",
     "height": 495
    },
    "executionInfo": {
     "elapsed": 253,
     "status": "ok",
     "timestamp": 1734870115649,
     "user": {
      "displayName": "AnChriHao AnChriHao",
      "userId": "01629242505074473503"
     },
     "user_tz": -60
    },
    "id": "LsEOeQDkIMKr",
    "outputId": "25216d6c-3242-4f62-dfac-50248bddf467"
   },
   "outputs": [
    {
     "name": "stdout",
     "output_type": "stream",
     "text": [
      "Répartition des incidents par année (vérification sur train) :\n",
      "\n"
     ]
    },
    {
     "data": {
      "text/html": [
       "<div>\n",
       "<style scoped>\n",
       "    .dataframe tbody tr th:only-of-type {\n",
       "        vertical-align: middle;\n",
       "    }\n",
       "\n",
       "    .dataframe tbody tr th {\n",
       "        vertical-align: top;\n",
       "    }\n",
       "\n",
       "    .dataframe thead th {\n",
       "        text-align: right;\n",
       "    }\n",
       "</style>\n",
       "<table border=\"1\" class=\"dataframe\">\n",
       "  <thead>\n",
       "    <tr style=\"text-align: right;\">\n",
       "      <th></th>\n",
       "      <th>proportion</th>\n",
       "    </tr>\n",
       "    <tr>\n",
       "      <th>CalYear</th>\n",
       "      <th></th>\n",
       "    </tr>\n",
       "  </thead>\n",
       "  <tbody>\n",
       "    <tr>\n",
       "      <th>2024</th>\n",
       "      <td>0.300008</td>\n",
       "    </tr>\n",
       "    <tr>\n",
       "      <th>2023</th>\n",
       "      <td>0.300008</td>\n",
       "    </tr>\n",
       "    <tr>\n",
       "      <th>2022</th>\n",
       "      <td>0.100000</td>\n",
       "    </tr>\n",
       "    <tr>\n",
       "      <th>2021</th>\n",
       "      <td>0.100000</td>\n",
       "    </tr>\n",
       "    <tr>\n",
       "      <th>2020</th>\n",
       "      <td>0.049995</td>\n",
       "    </tr>\n",
       "    <tr>\n",
       "      <th>2019</th>\n",
       "      <td>0.049995</td>\n",
       "    </tr>\n",
       "    <tr>\n",
       "      <th>2018</th>\n",
       "      <td>0.019999</td>\n",
       "    </tr>\n",
       "    <tr>\n",
       "      <th>2017</th>\n",
       "      <td>0.019999</td>\n",
       "    </tr>\n",
       "    <tr>\n",
       "      <th>2016</th>\n",
       "      <td>0.019999</td>\n",
       "    </tr>\n",
       "    <tr>\n",
       "      <th>2015</th>\n",
       "      <td>0.019999</td>\n",
       "    </tr>\n",
       "    <tr>\n",
       "      <th>2014</th>\n",
       "      <td>0.019999</td>\n",
       "    </tr>\n",
       "  </tbody>\n",
       "</table>\n",
       "</div><br><label><b>dtype:</b> float64</label>"
      ],
      "text/plain": [
       "CalYear\n",
       "2024    0.300008\n",
       "2023    0.300008\n",
       "2022    0.100000\n",
       "2021    0.100000\n",
       "2020    0.049995\n",
       "2019    0.049995\n",
       "2018    0.019999\n",
       "2017    0.019999\n",
       "2016    0.019999\n",
       "2015    0.019999\n",
       "2014    0.019999\n",
       "Name: proportion, dtype: float64"
      ]
     },
     "metadata": {},
     "output_type": "display_data"
    }
   ],
   "source": [
    "print('Répartition des incidents par année (vérification sur train) :\\n')\n",
    "display(train_reduit1.CalYear.value_counts(normalize=True))"
   ]
  },
  {
   "cell_type": "markdown",
   "metadata": {
    "id": "wApKIqNmLWwe"
   },
   "source": [
    "Nous avons fait une seconde réduction de la taille du jeu de données de sorte à limiter la taille à 200 000 incidents. Pour maximiser la prise en compte des incidents 2024, nous avons modifié les pourcentages."
   ]
  },
  {
   "cell_type": "code",
   "execution_count": null,
   "metadata": {
    "id": "iZgmEsq0BgS_"
   },
   "outputs": [],
   "source": [
    "train_reduit2, val_reduit2, test_reduit2 = split_final(\n",
    "    df_model,\n",
    "    ratio_separation = [0.7 , 0.15 , 0.15],\n",
    "    ratio_year = [0.02 , 0.02 , 0.02 , 0.02, 0.02 , 0.05 , 0.05,  0.075 , 0.075 , 0.25, 0.4],\n",
    "    nb_ligne_2024=200000,\n",
    "    random_state = 2024)"
   ]
  },
  {
   "cell_type": "code",
   "execution_count": null,
   "metadata": {
    "colab": {
     "base_uri": "https://localhost:8080/"
    },
    "executionInfo": {
     "elapsed": 3,
     "status": "ok",
     "timestamp": 1734870120108,
     "user": {
      "displayName": "AnChriHao AnChriHao",
      "userId": "01629242505074473503"
     },
     "user_tz": -60
    },
    "id": "6Ddm05MvLYtg",
    "outputId": "40ad8998-950c-4983-e0c0-71a0449b3565"
   },
   "outputs": [
    {
     "name": "stdout",
     "output_type": "stream",
     "text": [
      "Nb d'incidents en 2024 : 92087\n",
      "Nb d'incidents sélectionnés (vérification) :  200000\n",
      "dont 2024 :  80000\n"
     ]
    }
   ],
   "source": [
    "print('Nb d\\'incidents en 2024 :', df_model[df_model.CalYear==2024].shape[0])\n",
    "print('Nb d\\'incidents sélectionnés (vérification) : ', train_reduit2.shape[0] +  test_reduit2.shape[0] + val_reduit2.shape[0])\n",
    "print('dont 2024 : ', train_reduit2[train_reduit2.CalYear==2024].shape[0] +  test_reduit2[test_reduit2.CalYear==2024].shape[0] + val_reduit2[val_reduit2.CalYear==2024].shape[0])"
   ]
  },
  {
   "cell_type": "code",
   "execution_count": null,
   "metadata": {
    "colab": {
     "base_uri": "https://localhost:8080/",
     "height": 495
    },
    "executionInfo": {
     "elapsed": 209,
     "status": "ok",
     "timestamp": 1734870122606,
     "user": {
      "displayName": "AnChriHao AnChriHao",
      "userId": "01629242505074473503"
     },
     "user_tz": -60
    },
    "id": "I_n-KDoNM5C4",
    "outputId": "ea9e9bd9-c745-4911-c4b8-39039ec61461"
   },
   "outputs": [
    {
     "name": "stdout",
     "output_type": "stream",
     "text": [
      "Répartition des incidents par année (vérification sur train) :\n",
      "\n"
     ]
    },
    {
     "data": {
      "text/html": [
       "<div>\n",
       "<style scoped>\n",
       "    .dataframe tbody tr th:only-of-type {\n",
       "        vertical-align: middle;\n",
       "    }\n",
       "\n",
       "    .dataframe tbody tr th {\n",
       "        vertical-align: top;\n",
       "    }\n",
       "\n",
       "    .dataframe thead th {\n",
       "        text-align: right;\n",
       "    }\n",
       "</style>\n",
       "<table border=\"1\" class=\"dataframe\">\n",
       "  <thead>\n",
       "    <tr style=\"text-align: right;\">\n",
       "      <th></th>\n",
       "      <th>proportion</th>\n",
       "    </tr>\n",
       "    <tr>\n",
       "      <th>CalYear</th>\n",
       "      <th></th>\n",
       "    </tr>\n",
       "  </thead>\n",
       "  <tbody>\n",
       "    <tr>\n",
       "      <th>2024</th>\n",
       "      <td>0.400024</td>\n",
       "    </tr>\n",
       "    <tr>\n",
       "      <th>2023</th>\n",
       "      <td>0.250013</td>\n",
       "    </tr>\n",
       "    <tr>\n",
       "      <th>2022</th>\n",
       "      <td>0.074999</td>\n",
       "    </tr>\n",
       "    <tr>\n",
       "      <th>2021</th>\n",
       "      <td>0.074999</td>\n",
       "    </tr>\n",
       "    <tr>\n",
       "      <th>2020</th>\n",
       "      <td>0.049997</td>\n",
       "    </tr>\n",
       "    <tr>\n",
       "      <th>2019</th>\n",
       "      <td>0.049997</td>\n",
       "    </tr>\n",
       "    <tr>\n",
       "      <th>2018</th>\n",
       "      <td>0.019994</td>\n",
       "    </tr>\n",
       "    <tr>\n",
       "      <th>2017</th>\n",
       "      <td>0.019994</td>\n",
       "    </tr>\n",
       "    <tr>\n",
       "      <th>2016</th>\n",
       "      <td>0.019994</td>\n",
       "    </tr>\n",
       "    <tr>\n",
       "      <th>2015</th>\n",
       "      <td>0.019994</td>\n",
       "    </tr>\n",
       "    <tr>\n",
       "      <th>2014</th>\n",
       "      <td>0.019994</td>\n",
       "    </tr>\n",
       "  </tbody>\n",
       "</table>\n",
       "</div><br><label><b>dtype:</b> float64</label>"
      ],
      "text/plain": [
       "CalYear\n",
       "2024    0.400024\n",
       "2023    0.250013\n",
       "2022    0.074999\n",
       "2021    0.074999\n",
       "2020    0.049997\n",
       "2019    0.049997\n",
       "2018    0.019994\n",
       "2017    0.019994\n",
       "2016    0.019994\n",
       "2015    0.019994\n",
       "2014    0.019994\n",
       "Name: proportion, dtype: float64"
      ]
     },
     "metadata": {},
     "output_type": "display_data"
    }
   ],
   "source": [
    "print('Répartition des incidents par année (vérification sur train) :\\n')\n",
    "display(train_reduit2.CalYear.value_counts(normalize=True))"
   ]
  },
  {
   "cell_type": "markdown",
   "metadata": {
    "id": "mgmZA1ckRz5z"
   },
   "source": [
    "#### Standardisation de la distance"
   ]
  },
  {
   "cell_type": "code",
   "execution_count": null,
   "metadata": {
    "id": "JrG80zUESSa6"
   },
   "outputs": [],
   "source": [
    "# regroupement de train et validation pour la dernière étape de modélisation\n",
    "train2_reduit1 = pd.concat([train_reduit1, val_reduit1])\n",
    "train2_reduit2 = pd.concat([train_reduit2, val_reduit2])"
   ]
  },
  {
   "cell_type": "code",
   "execution_count": null,
   "metadata": {
    "id": "sSPUfCB1rFU-"
   },
   "outputs": [],
   "source": [
    "# premier cas : on utiliser la médiane et IQR de train_df\n",
    "scaler = RobustScaler()\n",
    "train_reduit1['distStd'] = scaler.fit_transform(train_reduit1[['distance']]) # fit et transform sur train_df\n",
    "val_reduit1['distStd'] = scaler.transform(val_reduit1[['distance']]) # uniquement le transfomr sur validation_df\n",
    "\n",
    "\n",
    "# second cas : on utilise la médiane et IQR du regroupement de train_df + validation_df\n",
    "scaler = RobustScaler()\n",
    "train2_reduit1['distStd'] = scaler.fit_transform(train2_reduit1[['distance']]) # fit et transform sur train2_df\n",
    "test_reduit1['distStd'] = scaler.transform(test_reduit1[['distance']]) # uniquement le transfomr sur test_df"
   ]
  },
  {
   "cell_type": "code",
   "execution_count": null,
   "metadata": {
    "id": "hnBYEb-mTFop"
   },
   "outputs": [],
   "source": [
    "# premier cas : on utiliser la médiane et IQR de train_df\n",
    "scaler = RobustScaler()\n",
    "train_reduit2['distStd'] = scaler.fit_transform(train_reduit2[['distance']]) # fit et transform sur train_df\n",
    "val_reduit2['distStd'] = scaler.transform(val_reduit2[['distance']]) # uniquement le transfomr sur validation_df\n",
    "\n",
    "\n",
    "# second cas : on utilise la médiane et IQR du regroupement de train_df + validation_df\n",
    "scaler = RobustScaler()\n",
    "train2_reduit2['distStd'] = scaler.fit_transform(train2_reduit2[['distance']]) # fit et transform sur train2_df\n",
    "test_reduit2['distStd'] = scaler.transform(test_reduit2[['distance']]) # uniquement le transfomr sur test_df"
   ]
  },
  {
   "cell_type": "code",
   "execution_count": null,
   "metadata": {
    "id": "G1sSIRCgMvAh"
   },
   "outputs": [],
   "source": [
    "# display(train_reduit1[['distance', 'distStd']].describe().apply(lambda s: s.apply('{0:.2f}'.format)))\n",
    "# display(val_reduit1[['distance', 'distStd']].describe().apply(lambda s: s.apply('{0:.2f}'.format)))\n",
    "\n",
    "# display(train2_reduit1[['distance', 'distStd']].describe().apply(lambda s: s.apply('{0:.2f}'.format)))\n",
    "# display(test_reduit1[['distance', 'distStd']].describe().apply(lambda s: s.apply('{0:.2f}'.format)))\n",
    "\n",
    "# display(train_reduit2[['distance', 'distStd']].describe().apply(lambda s: s.apply('{0:.2f}'.format)))\n",
    "# display(val_reduit2[['distance', 'distStd']].describe().apply(lambda s: s.apply('{0:.2f}'.format)))\n",
    "\n",
    "# display(train2_reduit2[['distance', 'distStd']].describe().apply(lambda s: s.apply('{0:.2f}'.format)))\n",
    "# display(test_reduit2[['distance', 'distStd']].describe().apply(lambda s: s.apply('{0:.2f}'.format)))"
   ]
  },
  {
   "cell_type": "code",
   "execution_count": null,
   "metadata": {
    "id": "UVVwSzNJUP3G"
   },
   "outputs": [],
   "source": [
    "# on conserve uniquement la distance standardisée (on pourra retrouver la distance \"originale\" dans le dataset df_model et df_clean)\n",
    "# on supprime la colonne CalYear, on conserve IncidentNumber pour pouvoir retrouver les liens avec df_model et df_clean\n",
    "train_reduit1.drop(columns=['distance', 'CalYear'], inplace=True)\n",
    "val_reduit1.drop(columns=['distance', 'CalYear'], inplace=True)\n",
    "test_reduit1.drop(columns=['distance', 'CalYear'], inplace=True)\n",
    "train2_reduit1.drop(columns=['distance', 'CalYear'], inplace=True)\n",
    "\n",
    "train_reduit2.drop(columns=['distance', 'CalYear'], inplace=True)\n",
    "val_reduit2.drop(columns=['distance', 'CalYear'], inplace=True)\n",
    "test_reduit2.drop(columns=['distance', 'CalYear'], inplace=True)\n",
    "train2_reduit2.drop(columns=['distance', 'CalYear'], inplace=True)"
   ]
  },
  {
   "cell_type": "markdown",
   "metadata": {
    "id": "xDpwWz6UUiiq"
   },
   "source": [
    "#### Enregistrement des différents jeux de données"
   ]
  },
  {
   "cell_type": "markdown",
   "metadata": {
    "id": "zqUUg5zwUjA_"
   },
   "source": [
    "Enregistrement sur Google Colab"
   ]
  },
  {
   "cell_type": "code",
   "execution_count": null,
   "metadata": {
    "id": "1wOQsYtOUjdg"
   },
   "outputs": [],
   "source": [
    "train_reduit1.to_csv('/content/gdrive/My Drive/1_Rendu/FinalDatasets/Reduit1/Train_Dataset_nobin.csv', index=False , encoding='utf-8')\n",
    "val_reduit1.to_csv('/content/gdrive/My Drive/1_Rendu/FinalDatasets/Reduit1/Validation_Dataset_nobin.csv', index=False , encoding='utf-8')\n",
    "train2_reduit1.to_csv('/content/gdrive/My Drive/1_Rendu/FinalDatasets/Reduit1/Train_Step3_Dataset_nobin.csv', index=False , encoding='utf-8')\n",
    "test_reduit1.to_csv('/content/gdrive/My Drive/1_Rendu/FinalDatasets/Reduit1/Test_Dataset_nobin.csv', index=False , encoding='utf-8')\n",
    "\n",
    "train_reduit2.to_csv('/content/gdrive/My Drive/1_Rendu/FinalDatasets/Reduit2/Train_Dataset_nobin.csv', index=False , encoding='utf-8')\n",
    "val_reduit2.to_csv('/content/gdrive/My Drive/1_Rendu/FinalDatasets/Reduit2/Validation_Dataset_nobin.csv', index=False , encoding='utf-8')\n",
    "train2_reduit2.to_csv('/content/gdrive/My Drive/1_Rendu/FinalDatasets/Reduit2/Train_Step3_Dataset_nobin.csv', index=False , encoding='utf-8')\n",
    "test_reduit2.to_csv('/content/gdrive/My Drive/1_Rendu/FinalDatasets/Reduit2/Test_Dataset_nobin.csv', index=False , encoding='utf-8')"
   ]
  },
  {
   "cell_type": "markdown",
   "metadata": {
    "id": "sxETRQMoVEvW"
   },
   "source": [
    "Enregistrement en local"
   ]
  },
  {
   "cell_type": "code",
   "execution_count": null,
   "metadata": {
    "id": "etNlVXMsVE8M"
   },
   "outputs": [],
   "source": [
    "train_reduit1.to_csv('../Data/Datapreprocessing/Reduit1/Train_Dataset_nobin.csv', index=False , encoding='utf-8')\n",
    "val_reduit1.to_csv('../Data/Datapreprocessing/Reduit1/Validation_Dataset_nobin.csv', index=False , encoding='utf-8')\n",
    "train2_reduit1.to_csv('../Data/Datapreprocessing/Reduit1/Train_Step3_Dataset_nobin.csv', index=False , encoding='utf-8')\n",
    "test_reduit1.to_csv('../Data/Datapreprocessing/Reduit1/Test_Dataset_nobin.csv', index=False , encoding='utf-8')\n",
    "\n",
    "train_reduit2.to_csv('../Data/Datapreprocessing/Reduit2/Train_Dataset_nobin.csv', index=False , encoding='utf-8')\n",
    "val_reduit2.to_csv('../Data/Datapreprocessing/Reduit2/Validation_Dataset_nobin.csv', index=False , encoding='utf-8')\n",
    "train2_reduit2.to_csv('../Data/Datapreprocessing/Reduit2/Train_Step3_Dataset_nobin.csv', index=False , encoding='utf-8')\n",
    "test_reduit2.to_csv('../Data/Datapreprocessing/Reduit2/Test_Dataset_nobin.csv', index=False , encoding='utf-8')"
   ]
  },
  {
   "cell_type": "markdown",
   "metadata": {
    "id": "GE8tLhaqVFSS"
   },
   "source": [
    "Lecture depuis Google Colab"
   ]
  },
  {
   "cell_type": "code",
   "execution_count": null,
   "metadata": {
    "id": "JEvXOVfMVFee"
   },
   "outputs": [],
   "source": [
    "train_reduit1 = pd.read_csv('/content/gdrive/My Drive/1_Rendu/FinalDatasets/Reduit1/Train_Dataset_nobin.csv', low_memory=False)\n",
    "val_reduit1 = pd.read_csv('/content/gdrive/My Drive/1_Rendu/FinalDatasets/Reduit1/Validation_Dataset_nobin.csv', low_memory=False)\n",
    "train2_reduit1 = pd.read_csv('/content/gdrive/My Drive/1_Rendu/FinalDatasets/Reduit1/Train_Step3_Dataset_nobin.csv', low_memory=False)\n",
    "test_reduit1 = pd.read_csv('/content/gdrive/My Drive/1_Rendu/FinalDatasets/Reduit1/Test_Dataset_nobin.csv', low_memory=False)\n",
    "\n",
    "train_reduit2 = pd.read_csv('/content/gdrive/My Drive/1_Rendu/FinalDatasets/Reduit2/Train_Dataset_nobin.csv', low_memory=False)\n",
    "val_reduit2 = pd.read_csv('/content/gdrive/My Drive/1_Rendu/FinalDatasets/Reduit2/Validation_Dataset_nobin.csv', low_memory=False)\n",
    "train2_reduit2 = pd.read_csv('/content/gdrive/My Drive/1_Rendu/FinalDatasets/Reduit2/Train_Step3_Dataset_nobin.csv', low_memory=False)\n",
    "test_reduit2 = pd.read_csv('/content/gdrive/My Drive/1_Rendu/FinalDatasets/Reduit2/Test_Dataset_nobin.csv', low_memory=False)"
   ]
  },
  {
   "cell_type": "markdown",
   "metadata": {
    "id": "z7LXcbXbVeRj"
   },
   "source": [
    "Lecture depuis un enregistrement en local"
   ]
  },
  {
   "cell_type": "code",
   "execution_count": null,
   "metadata": {
    "id": "OvrfT0pnVeeY"
   },
   "outputs": [],
   "source": [
    "train_reduit1 = pd.read_csv('../Data/Datapreprocessing/Reduit1/Train_Dataset_nobin.csv', low_memory=False)\n",
    "val_reduit1 = pd.read_csv('../Data/Datapreprocessing/Reduit1/Validation_Dataset_nobin.csv', low_memory=False)\n",
    "train2_reduit1 = pd.read_csv('../Data/Datapreprocessing/Reduit1/Train_Step3_Dataset_nobin.csv', low_memory=False)\n",
    "test_reduit1 = pd.read_csv('../Data/Datapreprocessing/Reduit1/Test_Dataset_nobin.csv', low_memory=False)\n",
    "\n",
    "train_reduit2 = pd.read_csv('../Data/Datapreprocessing/Reduit2/Train_Dataset_nobin.csv', low_memory=False)\n",
    "val_reduit2 = pd.read_csv('../Data/Datapreprocessing/Reduit2/Validation_Dataset_nobin.csv', low_memory=False)\n",
    "train2_reduit2 = pd.read_csv('../Data/Datapreprocessing/Reduit2/Train_Step3_Dataset_nobin.csv', low_memory=False)\n",
    "test_reduit2 = pd.read_csv('../Data/Datapreprocessing/Reduit2/Test_Dataset_nobin.csv', low_memory=False)"
   ]
  },
  {
   "cell_type": "markdown",
   "metadata": {
    "id": "6misgKGv1j83"
   },
   "source": [
    "## <font color='blue'>4.c) Réduction de dimension avec l'ACM </font>"
   ]
  },
  {
   "cell_type": "markdown",
   "metadata": {
    "id": "LefXDwCQDe0z"
   },
   "source": [
    "**Présentation** une Analyse en Correspondance Multiple (ACM) est une méthode statistique qui permet d'explorer et de visualiser des données qualitatives.\n",
    "\n",
    "**Objectifs :** Réduire la complexité : Elle transforme un tableau en un tableau de donnée moins grans tout en conservant un maximum d'information.\n",
    "\n",
    "L'ACM est accéssible directement en Python à l'aide du package **fanalysis** (lien pour explication : https://github.com/OlivierGarciaDev/fanalysis/blob/master/doc/mca_tutorial.ipynb).\n"
   ]
  },
  {
   "cell_type": "markdown",
   "metadata": {
    "id": "6E0YCalVEBdo"
   },
   "source": [
    "Pour réduire la dimension de notre DataFrame nous fonctionnerons de la manière suivante :\n",
    "- Sur le jeu d'entrainement :\n",
    "    - Création de la MCA sur tout le jeu de données réduit aux variables qualitatives.\n",
    "    - Recherche du nombre d'axe permettant de conserver 95% de l'information.\n",
    "    - Construction d'une nouvelle MCA avec le nombre d'axe fixé au nombre trouvé précédement.\n",
    "    - Entrainement su jeu de données sur la nouvelle MCA\n",
    "    - Jointure avec la colonne quantitative 'distance'\n",
    "-Sur les jeux de donnée de validation et de test\n",
    "    - Entrainement sur la MCA\n",
    "    - Jointure avec la colonne quantitative 'distance'\n",
    "\n",
    "La fonction renvoi aussi le transformateur mca, pour réentrainer des données au besoin."
   ]
  },
  {
   "cell_type": "code",
   "execution_count": null,
   "metadata": {
    "id": "S_XY8GkuDP2i"
   },
   "outputs": [],
   "source": [
    "def entrainement_model(X):\n",
    "    '''\n",
    "    Construction d'une MCA pour garder 95% de l'information du dataFrame\n",
    "\n",
    "    Arg : X -> dataFrame\n",
    "    '''\n",
    "    # Création de l'objet MCA et ajustement du modèle\n",
    "    mca = MCA()\n",
    "\n",
    "    # Création d'une matrice (tableau de tableau) contenant la description de chaque individus\n",
    "    X = X.values\n",
    "\n",
    "    # Entrainement de la MCA sur X\n",
    "    mca.fit(X)\n",
    "\n",
    "    # Récupération de l'indice pour 95% des informations\n",
    "    arg_max =np.argmax(mca.eig_[2,:]>=95)\n",
    "\n",
    "    del mca\n",
    "\n",
    "    # Création de la nouvelle ACM\n",
    "    mca= MCA(n_components=arg_max+1,stats=False)\n",
    "\n",
    "    # Entrainement du modèle\n",
    "    mca.fit(X)\n",
    "\n",
    "    return mca, arg_max\n",
    "\n",
    "def transfo_temp(mca,X,arg_max):\n",
    "    '''\n",
    "    Transformation grace à la MCA du dataFrame par jeu de 50 000 lignes\n",
    "\n",
    "    Args :\n",
    "        mca -> transformateur de MCA\n",
    "        X dataFrame\n",
    "    '''\n",
    "    df_mca = pd.DataFrame()\n",
    "    i=0\n",
    "\n",
    "    for i in range(0,(X.shape[0]//50000)):\n",
    "        # Application de de la MCA à df\n",
    "        Y = mca.transform(X.iloc[i*50000:(i+1)*50000,:].values)\n",
    "\n",
    "        # Transformation en dataFrame\n",
    "        Y = pd.DataFrame(Y).iloc[:,:arg_max]\n",
    "\n",
    "        # Concatenation\n",
    "        df_mca = pd.concat([df_mca,Y],axis=0)\n",
    "\n",
    "\n",
    "    # Application de de la MCA à df\n",
    "    Y = mca.transform(X.iloc[(i+1)*50000:,:].values)\n",
    "\n",
    "    # Transformation en dataFrame\n",
    "    Y = pd.DataFrame(Y).iloc[:,:arg_max]\n",
    "\n",
    "    # Concatenation\n",
    "    df_mca = pd.concat([df_mca,Y],axis=0)\n",
    "\n",
    "    return df_mca\n",
    "\n",
    "def ajout_col(X_mca,X):\n",
    "    '''\n",
    "    Ajout des variables cibles et distance\n",
    "\n",
    "    Args : X_mca : dataframe réduit\n",
    "            X : dataframe original (doit contenir 'distStd','TotalResponseTime_BC','ResponseTimeCategory' )\n",
    "    '''\n",
    "    # Ajouter la colonne 'distStd'\n",
    "    X_mca['distStd'] = X['distStd']\n",
    "\n",
    "    # Ajouter la colonne 'TotalResponseTime_BC'\n",
    "    X_mca.insert(0, 'TotalResponseTime_BC', X['TotalResponseTime_BC'])\n",
    "\n",
    "    # Ajouter la colonne 'ResponseTimeCategory'\n",
    "    X_mca.insert(1, 'ResponseTimeCategory', X['ResponseTimeCategory'])\n",
    "\n",
    "    return X_mca\n"
   ]
  },
  {
   "cell_type": "code",
   "execution_count": null,
   "metadata": {
    "id": "HZziPTLFDrxs"
   },
   "outputs": [],
   "source": [
    "def transfo_mca(col_desc_quali,X_train,X_val,X_test):\n",
    "    '''\n",
    "    Appliquer une réduction de dimension par ACM en conservant 95% des informations\n",
    "\n",
    "    Args:\n",
    "        col_desc_quali -> list : nom des variables qualitatives\n",
    "        df_train, df_validation, df_test -> dataFrame d'entrainement, de validation et de test.\n",
    "        Ces trois dataFrame doivent contenir les variables 'TotalResponseTime_BC', 'ResponseTimeCategory','distStd' et les variables contenues dans col_desc_quali\n",
    "    '''\n",
    "    # Entrainement du modèle\n",
    "    mca, arg_max = entrainement_model(X_train.loc[:,col_desc_quali])\n",
    "\n",
    "    # Transformation de X_train\n",
    "    X_train_mca = transfo_temp(mca,X_train.loc[:,col_desc_quali],arg_max)\n",
    "    X_train_mca = ajout_col(X_train_mca,X_train)\n",
    "\n",
    "    # Transformation de X_validation\n",
    "    X_val_mca = transfo_temp(mca,X_val.loc[:,col_desc_quali],arg_max)\n",
    "    X_val_mca = ajout_col(X_val_mca,X_val)\n",
    "\n",
    "    # Transformation de X_test\n",
    "    X_test_mca = transfo_temp(mca,X_test.loc[:,col_desc_quali],arg_max)\n",
    "    X_test_mca = ajout_col(X_test_mca,X_test)\n",
    "\n",
    "    return mca,X_train_mca,X_val_mca,X_test_mca"
   ]
  },
  {
   "cell_type": "markdown",
   "metadata": {
    "id": "DHO2zYsEW55K"
   },
   "source": [
    "##### Pour jeux complets"
   ]
  },
  {
   "cell_type": "code",
   "execution_count": null,
   "metadata": {
    "id": "Emh26ZTIQJAo"
   },
   "outputs": [],
   "source": [
    "# Tourne pendant 15 min\n",
    "\n",
    "col_desc_quali = ['Incident_Type', 'PropertyCategory', 'BoroughCode', 'Station_Code','HCat']\n",
    "\n",
    "mca,train_df_mca,validation_df_mca,test_df_mca=transfo_mca(col_desc_quali,train_df,validation_df,test_df)"
   ]
  },
  {
   "cell_type": "markdown",
   "metadata": {
    "id": "RUY6kVklXwg1"
   },
   "source": [
    "Enregistrement sur googlecolab"
   ]
  },
  {
   "cell_type": "code",
   "execution_count": null,
   "metadata": {
    "id": "FrpBymI3X0IO"
   },
   "outputs": [],
   "source": [
    "train_df_mca.to_csv('/content/gdrive/My Drive/1_Rendu/FinalDatasets/Complete/Train_Dataset_reduit_mca.csv', index=False , encoding='utf-8')\n",
    "validation_df_mca.to_csv('/content/gdrive/My Drive/1_Rendu/FinalDatasets/Complete/Validation_Dataset_reduit_mca.csv', index=False , encoding='utf-8')\n",
    "test_df_mca.to_csv('/content/gdrive/My Drive/1_Rendu/FinalDatasets/Complete/Test_Dataset_reduit_mca.csv', index=False , encoding='utf-8')"
   ]
  },
  {
   "cell_type": "markdown",
   "metadata": {
    "id": "wTlTxIvYYLfg"
   },
   "source": [
    "Enregistrement en local"
   ]
  },
  {
   "cell_type": "code",
   "execution_count": null,
   "metadata": {
    "id": "oj6PEHH8YLof"
   },
   "outputs": [],
   "source": [
    "train_df_mca.to_csv('../Data/Datapreprocessing/Complete/Train_Dataset_reduit_mca.csv', index=False , encoding='utf-8')\n",
    "validation_df_mca.to_csv('../Data/Datapreprocessing/Complete/Validation_Dataset_reduit_mca.csv', index=False , encoding='utf-8')\n",
    "test_df_mca.to_csv('../Data/Datapreprocessing/Complete/Complete/Test_Dataset_reduit_mca.csv', index=False , encoding='utf-8')"
   ]
  },
  {
   "cell_type": "markdown",
   "metadata": {
    "id": "130y5DPSYeR_"
   },
   "source": [
    "Lecture sur googlecolab"
   ]
  },
  {
   "cell_type": "code",
   "execution_count": null,
   "metadata": {
    "id": "YdRFxVO4YeXM"
   },
   "outputs": [],
   "source": [
    "train_df_mca = pd.read_csv('/content/gdrive/My Drive/1_Rendu/FinalDatasets/Complete/Train_Dataset_reduit_mca.csv', low_memory=False)\n",
    "validation_df_mca = pd.read_csv('/content/gdrive/My Drive/1_Rendu/FinalDatasets/Complete/Validation_Dataset_reduit_mca.csv', low_memory=False)\n",
    "test_df_mca = pd.read_csv('/content/gdrive/My Drive/1_Rendu/FinalDatasets/Complete/Test_Dataset_reduit_mca.csv', low_memory=False)\n"
   ]
  },
  {
   "cell_type": "markdown",
   "metadata": {
    "id": "b7pb6OvRYedK"
   },
   "source": [
    "Lecture en local"
   ]
  },
  {
   "cell_type": "code",
   "execution_count": null,
   "metadata": {
    "id": "1oMwMu0fYejk"
   },
   "outputs": [],
   "source": [
    "train_df_mca = pd.read_csv('../Data/Datapreprocessing/Complete/Train_Dataset_reduit_mca.csv', low_memory=False)\n",
    "validation_df_mca = pd.read_csv('../Data/Datapreprocessing/Complete/Validation_Dataset_reduit_mca.csv', low_memory=False)\n",
    "test_df_mca = pd.read_csv('../Data/Datapreprocessing/Complete/Test_Dataset_reduit_mca.csv', low_memory=False)"
   ]
  },
  {
   "cell_type": "markdown",
   "metadata": {
    "id": "eyEK19s8W-LW"
   },
   "source": [
    "##### Pour jeux réduit"
   ]
  },
  {
   "cell_type": "code",
   "execution_count": null,
   "metadata": {
    "id": "e0n2F3GQXB0K"
   },
   "outputs": [],
   "source": [
    "# Tourne pendant 5 min\n",
    "\n",
    "col_desc_quali = ['Incident_Type', 'PropertyCategory', 'BoroughCode', 'Station_Code','HCat']\n",
    "\n",
    "mca1,train_reduit1_mca,val_reduit1_mca,test_reduit1_mca=transfo_mca(col_desc_quali,train_reduit1,val_reduit1,test_reduit1)\n",
    "\n",
    "mca2,train_reduit2_mca,val_reduit2_mca,test_reduit2_mca=transfo_mca(col_desc_quali,train_reduit2,val_reduit2,test_reduit2)"
   ]
  },
  {
   "cell_type": "markdown",
   "metadata": {
    "id": "XtDy9aLaZEaO"
   },
   "source": [
    "Enregistrement sur google colab"
   ]
  },
  {
   "cell_type": "code",
   "execution_count": null,
   "metadata": {
    "id": "hGrPDEnlZElX"
   },
   "outputs": [],
   "source": [
    "train_reduit1_mca.to_csv('/content/gdrive/My Drive/1_Rendu/FinalDatasets/Complete/Train_Dataset_reduit1_mca.csv', index=False , encoding='utf-8')\n",
    "val_reduit1_mca.to_csv('/content/gdrive/My Drive/1_Rendu/FinalDatasets/Complete/Validation_Dataset_reduit1_mca.csv', index=False , encoding='utf-8')\n",
    "test_reduit1_mca.to_csv('/content/gdrive/My Drive/1_Rendu/FinalDatasets/Complete/Test_Dataset_reduit1_mca.csv', index=False , encoding='utf-8')\n",
    "\n",
    "train_reduit2_mca.to_csv('/content/gdrive/My Drive/1_Rendu/FinalDatasets/Complete/Train_Dataset_reduit2_mca.csv', index=False , encoding='utf-8')\n",
    "val_reduit2_mca.to_csv('/content/gdrive/My Drive/1_Rendu/FinalDatasets/Complete/Validation_Dataset_reduit2_mca.csv', index=False , encoding='utf-8')\n",
    "test_reduit2_mca.to_csv('/content/gdrive/My Drive/1_Rendu/FinalDatasets/Complete/Test_Dataset_reduit2_mca.csv', index=False , encoding='utf-8')"
   ]
  },
  {
   "cell_type": "markdown",
   "metadata": {
    "id": "XUpR6Bl1ZEr_"
   },
   "source": [
    "Enregistrement en local"
   ]
  },
  {
   "cell_type": "code",
   "execution_count": null,
   "metadata": {
    "id": "njxjAoAJZEzv"
   },
   "outputs": [],
   "source": [
    "train_reduit1_mca.to_csv('../Data/Datapreprocessing/Complete/Train_Dataset_reduit1_mca.csv', index=False , encoding='utf-8')\n",
    "val_reduit1_mca.to_csv('../Data/Datapreprocessing/Complete/Validation_Dataset_reduit1_mca.csv', index=False , encoding='utf-8')\n",
    "test_reduit1_mca.to_csv('../Data/Datapreprocessing/Complete/Complete/Test_Dataset_reduit1_mca.csv', index=False , encoding='utf-8')\n",
    "\n",
    "train_reduit2_mca.to_csv('../Data/Datapreprocessing/Complete/Train_Dataset_reduit2_mca.csv', index=False , encoding='utf-8')\n",
    "val_reduit2_mca.to_csv('../Data/Datapreprocessing/Complete/Validation_Dataset_reduit2_mca.csv', index=False , encoding='utf-8')\n",
    "test_reduit2_mca.to_csv('../Data/Datapreprocessing/Complete/Complete/Test_Dataset_reduit2_mca.csv', index=False , encoding='utf-8')"
   ]
  },
  {
   "cell_type": "markdown",
   "metadata": {
    "id": "6sL1bt5FZE7f"
   },
   "source": [
    "Lecture sur googlecolab"
   ]
  },
  {
   "cell_type": "code",
   "execution_count": null,
   "metadata": {
    "id": "u3BzXJpwZFD3"
   },
   "outputs": [],
   "source": [
    "train_reduit1_mca = pd.read_csv('/content/gdrive/My Drive/1_Rendu/FinalDatasets/Complete/Train_Dataset_reduit1_mca.csv', low_memory=False)\n",
    "val_reduit1_mca = pd.read_csv('/content/gdrive/My Drive/1_Rendu/FinalDatasets/Complete/Validation_Dataset_reduit1_mca.csv', low_memory=False)\n",
    "test_reduit1_mca = pd.read_csv('/content/gdrive/My Drive/1_Rendu/FinalDatasets/Complete/Test_Dataset_reduit1_mca.csv', low_memory=False)\n",
    "\n",
    "train_reduit2_mca = pd.read_csv('/content/gdrive/My Drive/1_Rendu/FinalDatasets/Complete/Train_Dataset_reduit2_mca.csv', low_memory=False)\n",
    "val_reduit2_mca = pd.read_csv('/content/gdrive/My Drive/1_Rendu/FinalDatasets/Complete/Validation_Dataset_reduit2_mca.csv', low_memory=False)\n",
    "test_reduit2_mca = pd.read_csv('/content/gdrive/My Drive/1_Rendu/FinalDatasets/Complete/Test_Dataset_reduit2_mca.csv', low_memory=False)"
   ]
  },
  {
   "cell_type": "markdown",
   "metadata": {
    "id": "k5u_Xd5yZFMP"
   },
   "source": [
    "Lecture en local"
   ]
  },
  {
   "cell_type": "code",
   "execution_count": null,
   "metadata": {
    "id": "AvKKsNXNZFW3"
   },
   "outputs": [],
   "source": [
    "train_reduit1_mca = pd.read_csv('../Data/Datapreprocessing/Complete/Train_Dataset_reduit1_mca.csv', low_memory=False)\n",
    "val_reduit1_mca = pd.read_csv('../Data/Datapreprocessing/Complete/Validation_Dataset_reduit1_mca.csv', low_memory=False)\n",
    "test_reduit1_mca = pd.read_csv('../Data/Datapreprocessing/Complete/Test_Dataset_reduit1_mca.csv', low_memory=False)\n",
    "\n",
    "train_reduit2_mca = pd.read_csv('../Data/Datapreprocessing/Complete/Train_Dataset_reduit2_mca.csv', low_memory=False)\n",
    "val_reduit2_mca = pd.read_csv('../Data/Datapreprocessing/Complete/Validation_Dataset_reduit2_mca.csv', low_memory=False)\n",
    "test_reduit2_mca = pd.read_csv('../Data/Datapreprocessing/Complete/Test_Dataset_reduit2_mca.csv', low_memory=False)"
   ]
  }
 ],
 "metadata": {
  "colab": {
   "collapsed_sections": [
    "PpFe80XIUPhw",
    "jaiGyQtEoVEl",
    "bH-Uf6Y179cy",
    "w3xkZdvjN-fC",
    "0gajczLdrt7N",
    "lvsEvAjsiYeg"
   ],
   "provenance": [
    {
     "file_id": "1NnMCJ0-9NB3Fdv7oJ2JHZRdmHZbwc1Vv",
     "timestamp": 1734869290793
    }
   ]
  },
  "kernelspec": {
   "display_name": "Python 3",
   "language": "python",
   "name": "python3"
  },
  "language_info": {
   "codemirror_mode": {
    "name": "ipython",
    "version": 3
   },
   "file_extension": ".py",
   "mimetype": "text/x-python",
   "name": "python",
   "nbconvert_exporter": "python",
   "pygments_lexer": "ipython3",
   "version": "3.11.9"
  }
 },
 "nbformat": 4,
 "nbformat_minor": 0
}
